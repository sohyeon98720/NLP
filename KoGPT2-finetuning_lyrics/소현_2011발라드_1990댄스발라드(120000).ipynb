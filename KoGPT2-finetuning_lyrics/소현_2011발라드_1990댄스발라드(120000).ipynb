{
 "cells": [
  {
   "cell_type": "code",
   "execution_count": 13,
   "metadata": {},
   "outputs": [],
   "source": [
    "import time\n",
    "start = time.time()  # 시작 시간 저장"
   ]
  },
  {
   "cell_type": "code",
   "execution_count": 14,
   "metadata": {
    "scrolled": true
   },
   "outputs": [
    {
     "name": "stdout",
     "output_type": "stream",
     "text": [
      "/home/minji/.local/lib/python3.6/site-packages/mxnet/optimizer/optimizer.py:167: UserWarning: WARNING: New optimizer gluonnlp.optimizer.lamb.LAMB is overriding existing optimizer mxnet.optimizer.optimizer.LAMB\n",
      "  Optimizer.opt_registry[name].__name__))\n",
      "2020-11-27 08:59:39.710221: I tensorflow/stream_executor/platform/default/dso_loader.cc:48] Successfully opened dynamic library libcudart.so.10.1\n",
      "To use data.metrics please install scikit-learn. See https://scikit-learn.org/stable/index.html\n",
      "2020-11-27 08:59:41.366954: I tensorflow/stream_executor/platform/default/dso_loader.cc:48] Successfully opened dynamic library libcuda.so.1\n",
      "2020-11-27 08:59:41.378940: I tensorflow/core/common_runtime/gpu/gpu_device.cc:1716] Found device 0 with properties: \n",
      "pciBusID: 0000:65:00.0 name: TITAN RTX computeCapability: 7.5\n",
      "coreClock: 1.77GHz coreCount: 72 deviceMemorySize: 23.65GiB deviceMemoryBandwidth: 625.94GiB/s\n",
      "2020-11-27 08:59:41.380308: I tensorflow/core/common_runtime/gpu/gpu_device.cc:1716] Found device 1 with properties: \n",
      "pciBusID: 0000:b3:00.0 name: TITAN RTX computeCapability: 7.5\n",
      "coreClock: 1.77GHz coreCount: 72 deviceMemorySize: 23.65GiB deviceMemoryBandwidth: 625.94GiB/s\n",
      "2020-11-27 08:59:41.380399: I tensorflow/stream_executor/platform/default/dso_loader.cc:48] Successfully opened dynamic library libcudart.so.10.1\n",
      "2020-11-27 08:59:41.382727: I tensorflow/stream_executor/platform/default/dso_loader.cc:48] Successfully opened dynamic library libcublas.so.10\n",
      "2020-11-27 08:59:41.384734: I tensorflow/stream_executor/platform/default/dso_loader.cc:48] Successfully opened dynamic library libcufft.so.10\n",
      "2020-11-27 08:59:41.385183: I tensorflow/stream_executor/platform/default/dso_loader.cc:48] Successfully opened dynamic library libcurand.so.10\n",
      "2020-11-27 08:59:41.387639: I tensorflow/stream_executor/platform/default/dso_loader.cc:48] Successfully opened dynamic library libcusolver.so.10\n",
      "2020-11-27 08:59:41.388924: I tensorflow/stream_executor/platform/default/dso_loader.cc:48] Successfully opened dynamic library libcusparse.so.10\n",
      "2020-11-27 08:59:41.393922: I tensorflow/stream_executor/platform/default/dso_loader.cc:48] Successfully opened dynamic library libcudnn.so.7\n",
      "2020-11-27 08:59:41.399030: I tensorflow/core/common_runtime/gpu/gpu_device.cc:1858] Adding visible gpu devices: 0, 1\n",
      "2020-11-27 08:59:41.399448: I tensorflow/core/platform/cpu_feature_guard.cc:142] This TensorFlow binary is optimized with oneAPI Deep Neural Network Library (oneDNN)to use the following CPU instructions in performance-critical operations:  AVX2 AVX512F FMA\n",
      "To enable them in other operations, rebuild TensorFlow with the appropriate compiler flags.\n",
      "2020-11-27 08:59:41.427592: I tensorflow/core/platform/profile_utils/cpu_utils.cc:104] CPU Frequency: 3499910000 Hz\n",
      "2020-11-27 08:59:41.428442: I tensorflow/compiler/xla/service/service.cc:168] XLA service 0x89804f0 initialized for platform Host (this does not guarantee that XLA will be used). Devices:\n",
      "2020-11-27 08:59:41.428478: I tensorflow/compiler/xla/service/service.cc:176]   StreamExecutor device (0): Host, Default Version\n",
      "2020-11-27 08:59:41.820861: I tensorflow/compiler/xla/service/service.cc:168] XLA service 0x89ec040 initialized for platform CUDA (this does not guarantee that XLA will be used). Devices:\n",
      "2020-11-27 08:59:41.820904: I tensorflow/compiler/xla/service/service.cc:176]   StreamExecutor device (0): TITAN RTX, Compute Capability 7.5\n",
      "2020-11-27 08:59:41.820914: I tensorflow/compiler/xla/service/service.cc:176]   StreamExecutor device (1): TITAN RTX, Compute Capability 7.5\n",
      "2020-11-27 08:59:41.822093: I tensorflow/core/common_runtime/gpu/gpu_device.cc:1716] Found device 0 with properties: \n",
      "pciBusID: 0000:65:00.0 name: TITAN RTX computeCapability: 7.5\n",
      "coreClock: 1.77GHz coreCount: 72 deviceMemorySize: 23.65GiB deviceMemoryBandwidth: 625.94GiB/s\n",
      "2020-11-27 08:59:41.823188: I tensorflow/core/common_runtime/gpu/gpu_device.cc:1716] Found device 1 with properties: \n",
      "pciBusID: 0000:b3:00.0 name: TITAN RTX computeCapability: 7.5\n",
      "coreClock: 1.77GHz coreCount: 72 deviceMemorySize: 23.65GiB deviceMemoryBandwidth: 625.94GiB/s\n",
      "2020-11-27 08:59:41.823275: I tensorflow/stream_executor/platform/default/dso_loader.cc:48] Successfully opened dynamic library libcudart.so.10.1\n",
      "2020-11-27 08:59:41.823310: I tensorflow/stream_executor/platform/default/dso_loader.cc:48] Successfully opened dynamic library libcublas.so.10\n",
      "2020-11-27 08:59:41.823327: I tensorflow/stream_executor/platform/default/dso_loader.cc:48] Successfully opened dynamic library libcufft.so.10\n",
      "2020-11-27 08:59:41.823343: I tensorflow/stream_executor/platform/default/dso_loader.cc:48] Successfully opened dynamic library libcurand.so.10\n",
      "2020-11-27 08:59:41.823359: I tensorflow/stream_executor/platform/default/dso_loader.cc:48] Successfully opened dynamic library libcusolver.so.10\n",
      "2020-11-27 08:59:41.823375: I tensorflow/stream_executor/platform/default/dso_loader.cc:48] Successfully opened dynamic library libcusparse.so.10\n",
      "2020-11-27 08:59:41.823391: I tensorflow/stream_executor/platform/default/dso_loader.cc:48] Successfully opened dynamic library libcudnn.so.7\n",
      "2020-11-27 08:59:41.826994: I tensorflow/core/common_runtime/gpu/gpu_device.cc:1858] Adding visible gpu devices: 0, 1\n",
      "2020-11-27 08:59:41.827089: I tensorflow/stream_executor/platform/default/dso_loader.cc:48] Successfully opened dynamic library libcudart.so.10.1\n",
      "2020-11-27 08:59:44.188631: I tensorflow/core/common_runtime/gpu/gpu_device.cc:1257] Device interconnect StreamExecutor with strength 1 edge matrix:\n",
      "2020-11-27 08:59:44.188694: I tensorflow/core/common_runtime/gpu/gpu_device.cc:1263]      0 1 \n",
      "2020-11-27 08:59:44.188705: I tensorflow/core/common_runtime/gpu/gpu_device.cc:1276] 0:   N Y \n",
      "2020-11-27 08:59:44.188713: I tensorflow/core/common_runtime/gpu/gpu_device.cc:1276] 1:   Y N \n",
      "2020-11-27 08:59:44.191914: I tensorflow/core/common_runtime/gpu/gpu_device.cc:1402] Created TensorFlow device (/job:localhost/replica:0/task:0/device:GPU:0 with 14500 MB memory) -> physical GPU (device: 0, name: TITAN RTX, pci bus id: 0000:65:00.0, compute capability: 7.5)\n",
      "2020-11-27 08:59:44.193855: I tensorflow/core/common_runtime/gpu/gpu_device.cc:1402] Created TensorFlow device (/job:localhost/replica:0/task:0/device:GPU:1 with 22466 MB memory) -> physical GPU (device: 1, name: TITAN RTX, pci bus id: 0000:b3:00.0, compute capability: 7.5)\n",
      "using cached model\n",
      "using cached model\n",
      "using cached model\n",
      "207\n",
      "to_tokens: ['▁너', '해선', '▁미안', '하다', '▁그래', '▁더는', '▁안', '되', '겠', '어', '▁난', '▁다가', '갈', '▁자격', '▁조차', '▁없어', '▁날', '▁사랑', '하지', '▁마', '▁내', '겐', '▁마음을', '▁내어', '줄', '▁여유', '도', '▁없어', '▁매', '일을', '▁힘', '겹', '게', '▁살고', '▁하루가', '▁버거', '워', '▁울고', '▁오', '▁난', '▁네', '게', '▁줄', '▁수', '▁있는', '게', '▁없어', '▁m', 'iss', 'ing', '▁U', '▁따뜻한', '▁말도', '▁못해', '▁I', '▁m', 'iss', 'ing', '▁U', '▁감히', '▁바', '랄', '▁수도', '▁없어', '▁I', '▁m', 'iss', 'ing', '▁U', '▁이렇게', '▁밀어', '내', '▁내', '겐', '▁가진', '건', '▁심장', '뿐', '▁못', '난', '▁놈', '이라', '▁참고', '있어', '▁아프', '지만', '▁내', '겐', '▁눈물', '도', '▁사치', '야', '▁널', '▁바라', '볼', '▁자격', '▁조차', '▁없어', '▁날', '▁바라', '보지', '▁마', '▁알아', '▁너', '▁있는', '▁그곳에', '▁내', '▁맘', '이', '▁있어', '▁숨', '결', '이', '▁닿', '을', '▁거리에', '▁언제나', '▁같은', '▁자리에', '▁오', '▁난', '▁네', '게', '▁줄', '▁수', '▁있는', '게', '▁없어', '▁m', 'iss', 'ing', '▁U', '▁따뜻한', '▁말도', '▁못해', '▁I', '▁m', 'iss', 'ing', '▁U', '▁감히', '▁바', '랄', '▁수도', '▁없어', '▁I', '▁m', 'iss', 'ing', '▁U', '▁이렇게', '▁밀어', '내', '▁세상', '▁누구보다', '▁너', '를', '▁사랑', '하기에', '▁참', '아', '▁더', '▁오', '▁난', '▁니', '▁손', '▁잡아', '줄', '▁수가', '▁없어', '▁m', 'iss', 'ing', '▁U', '▁눈물', '만', '▁안', '길', '까봐', '▁I', '▁m', 'iss', 'ing', '▁U', '▁함께', '▁하', '잘', '▁수가', '▁없어', '▁I', '▁m', 'iss', 'ing', '▁U', '▁힘', '겹', '게', '▁돌아서', '▁내', '겐', '▁가진', '건', '▁심장', '뿐', '▁못', '난', '▁놈', '이', '</s>']\n",
      "사랑한다 미안하다 그래 더는 안되겠어 난 다가갈 자격 조차 없어 날 사랑하지 마 내겐 마음을 내어줄 여유도 없어 매일을 힘겹게 살고 하루가 버거워 울고 오 난 네게 줄 수 있는게 없어 missing U 따뜻한 말도 못해 I missing U 감히 바랄 수도 없어 I missing U 이렇게 밀어내 내겐 가진건 심장뿐 못난 놈이라 참고있어 아프지만 내겐 눈물도 사치야 널 바라볼 자격 조차 없어 날 바라보지 마 알아 너 있는 그곳에 내 맘이 있어 숨결이 닿을 거리에 언제나 같은 자리에 오 난 네게 줄 수 있는게 없어 missing U 따뜻한 말도 못해 I missing U 감히 바랄 수도 없어 I missing U 이렇게 밀어내 세상 누구보다 너를 사랑하기에 참아 더 오 난 니 손 잡아줄 수가 없어 missing U 눈물만 안길까봐 I missing U 함께 하잘 수가 없어 I missing U 힘겹게 돌아서 내겐 가진건 심장뿐 못난 놈이</s>\n"
     ]
    },
    {
     "name": "stdout",
     "output_type": "stream",
     "text": [
      "251\n",
      "to_tokens: ['▁너', '해선', '▁안될', '▁사람이', '▁있죠', '▁열', '번', '▁사랑', '해도', '▁열', '번', '▁이뤄질', '▁수', '▁없는', '▁사랑', '도', '▁있죠', '▁유리', '병의', '▁촛불', '이', '▁보기', '엔', '▁아름답', '지만', '▁만', '질', '▁수가', '▁없', '잖아요', '▁다', '칠', '▁것을', '▁알', '잖아요', '▁우', '린', '▁아', '플', '▁거', '에요', '▁서로', '▁다', '칠', '▁거', '에요', '▁이런', '▁사랑에', '▁또', '▁눈물이', '▁나', '요', '▁나', '▁때문에', '▁더', '▁다', '치고', '▁나', '▁때문에', '▁더', '▁아프', '고', '▁나', '▁때문에', '▁예쁜', '▁눈이', '▁젖', '어버', '리', '잖아요', '▁S', 'OR', 'R', 'Y', '▁S', 'OR', 'R', 'Y', '▁S', 'OR', 'R', 'Y', '▁T', 'OO', '▁S', 'OR', 'R', 'Y', '▁S', 'OR', 'R', 'Y', '▁S', 'OR', 'R', 'Y', '▁내', '▁뒤에서', '▁울', '어버', '릴', '▁그', '대란', '▁걸', '▁알', '기에', '▁아파', '요', '▁아파', '요', '▁내', '▁맘', '이', '▁사랑', '해서', '▁보낼', '▁사람이', '▁있죠', '▁열', '번', '▁보내', '줘', '도', '▁절대', '▁지', '울', '▁수가', '▁없는', '▁사랑', '도', '▁있죠', '▁유리', '병의', '▁촛불', '이', '▁꺼', '진', '▁후에', '▁굳', '는', '▁것처럼', '▁사랑', '했던', '▁흔적', '들은', '▁어제', '처럼', '▁남아있', '죠', '▁나를', '▁잊지', '말', '아요', '▁나를', '▁지우', '지마', '요', '▁이런', '▁사랑에', '▁또', '▁눈물이', '▁나', '요', '▁나', '▁때문에', '▁더', '▁다', '치고', '▁나', '▁때문에', '▁더', '▁아프', '고', '▁나', '▁때문에', '▁예쁜', '▁눈이', '▁젖', '어버', '리', '잖아요', '▁S', 'OR', 'R', 'Y', '▁S', 'OR', 'R', 'Y', '▁S', 'OR', 'R', 'Y', '▁T', 'OO', '▁S', 'OR', 'R', 'Y', '▁S', 'OR', 'R', 'Y', '▁S', 'OR', 'R', 'Y', '▁내', '▁뒤에서', '▁울', '어버', '릴', '▁사랑', '인', '걸', '▁알', '기에', '▁마지막', '▁순간', '에도', '▁울', '지마', '요', '▁그대', '▁울', '지마', '요', '▁죽음', '보다', '▁깊은', '▁사랑', '이었', '음을', '▁기억', '해요', '▁그대', '라서', '▁아름답고', '▁그대', '라서', '▁행복', '했고', '▁그대', '라서', '▁보내', '주는', '▁사랑', '인', '걸', '▁알', '기에', '▁아파', '요']\n",
      "사랑해선 안될 사람이 있죠 열번 사랑해도 열번 이뤄질 수 없는 사랑도 있죠 유리병의 촛불이 보기엔 아름답지만 만질 수가 없잖아요 다칠 것을 알잖아요 우린 아플 거에요 서로 다칠 거에요 이런 사랑에 또 눈물이 나요 나 때문에 더 다치고 나 때문에 더 아프고 나 때문에 예쁜 눈이 젖어버리잖아요 SORRY SORRY SORRY TOO SORRY SORRY SORRY 내 뒤에서 울어버릴 그대란 걸 알기에 아파요 아파요 내 맘이 사랑해서 보낼 사람이 있죠 열번 보내줘도 절대 지울 수가 없는 사랑도 있죠 유리병의 촛불이 꺼진 후에 굳는 것처럼 사랑했던 흔적들은 어제처럼 남아있죠 나를 잊지말아요 나를 지우지마요 이런 사랑에 또 눈물이 나요 나 때문에 더 다치고 나 때문에 더 아프고 나 때문에 예쁜 눈이 젖어버리잖아요 SORRY SORRY SORRY TOO SORRY SORRY SORRY 내 뒤에서 울어버릴 사랑인걸 알기에 마지막 순간에도 울지마요 그대 울지마요 죽음보다 깊은 사랑이었음을 기억해요 그대라서 아름답고 그대라서 행복했고 그대라서 보내주는 사랑인걸 알기에 아파요\n",
      "149\n",
      "to_tokens: ['▁너', '해선', '▁지금', '▁곁에', '▁없지만', '▁그', '대가', '▁있어', '▁이', '▁세상이', '▁난', '▁행복한', '걸', '요', '▁그대', '▁잊', '지마', '요', '▁세상', '▁어디', '에서도', '▁내', '▁사랑을', '▁기억', '해', '줘', '요', '▁사랑', '해요', '▁그', '댈', '▁사랑', '해요', '▁그대', '▁때문에', '▁이렇게', '▁그대', '▁때문에', '▁이렇게', '▁눈물', '이나', '▁다', '신', '▁그', '댈', '▁볼', '수', '▁없어도', '▁그래도', '▁나는', '▁괜찮', '아요', '▁그', '댈', '▁사랑', '하니까', '▁우리', '▁매일', '▁걷', '던', '▁익숙한', '▁이', '▁거리', '도', '▁나는', '▁오늘도', '▁낯설', '게', '만', '▁또', '▁느껴', '지', '네요', '▁그대', '▁없는', '▁동안', '▁많은', '게', '▁변', '했', '어도', '▁내', '▁사랑', '만', '▁멈춰', '서', '▁있죠', '▁사랑', '해요', '▁그', '댈', '▁사랑', '해요', '▁그대', '▁때문에', '▁이렇게', '▁그대', '▁때문에', '▁이렇게', '▁눈물', '이나', '▁다', '신', '▁그', '댈', '▁볼', '수', '▁없어도', '▁그래도', '▁나는', '▁괜찮', '아요', '▁그', '댈', '▁사랑', '하니까', '▁미안', '해요', '▁내가', '▁미안', '해요', '▁나', '▁때문에', '▁힘들', '었죠', '▁나', '▁때문에', '▁아', '팠', '겠죠', '▁바보', '처럼', '▁이제', '서야', '▁알', '것', '▁같아요', '▁가슴이', '▁원하는', '▁한', '▁사람', '▁바로', '▁그대', '이', '니까', '▁우', '~', '▁사랑', '해요', '▁영원', '</s>']\n",
      "사랑해요 지금 곁에 없지만 그대가 있어 이 세상이 난 행복한걸요 그대 잊지마요 세상 어디에서도 내 사랑을 기억해줘요 사랑해요 그댈 사랑해요 그대 때문에 이렇게 그대 때문에 이렇게 눈물이나 다신 그댈 볼수 없어도 그래도 나는 괜찮아요 그댈 사랑하니까 우리 매일 걷던 익숙한 이 거리도 나는 오늘도 낯설게만 또 느껴지네요 그대 없는 동안 많은게 변했어도 내 사랑만 멈춰서 있죠 사랑해요 그댈 사랑해요 그대 때문에 이렇게 그대 때문에 이렇게 눈물이나 다신 그댈 볼수 없어도 그래도 나는 괜찮아요 그댈 사랑하니까 미안해요 내가 미안해요 나 때문에 힘들었죠 나 때문에 아팠겠죠 바보처럼 이제서야 알것 같아요 가슴이 원하는 한 사람 바로 그대이니까 우~ 사랑해요 영원</s>\n",
      "149\n",
      "to_tokens: ['▁너', '해선', '▁지금', '▁곁에', '▁없지만', '▁그', '대가', '▁있어', '▁이', '▁세상이', '▁난', '▁행복한', '걸', '요', '▁그대', '▁잊', '지마', '요', '▁세상', '▁어디', '에서도', '▁내', '▁사랑을', '▁기억', '해', '줘', '요', '▁사랑', '해요', '▁그', '댈', '▁사랑', '해요', '▁그대', '▁때문에', '▁이렇게', '▁그대', '▁때문에', '▁이렇게', '▁눈물', '이나', '▁다', '신', '▁그', '댈', '▁볼', '수', '▁없어도', '▁그래도', '▁나는', '▁괜찮', '아요', '▁그', '댈', '▁사랑', '하니까', '▁우리', '▁매일', '▁걷', '던', '▁익숙한', '▁이', '▁거리', '도', '▁나는', '▁오늘도', '▁낯설', '게', '만', '▁또', '▁느껴', '지', '네요', '▁그대', '▁없는', '▁동안', '▁많은', '게', '▁변', '했', '어도', '▁내', '▁사랑', '만', '▁멈춰', '서', '▁있죠', '▁사랑', '해요', '▁그', '댈', '▁사랑', '해요', '▁그대', '▁때문에', '▁이렇게', '▁그대', '▁때문에', '▁이렇게', '▁눈물', '이나', '▁다', '신', '▁그', '댈', '▁볼', '수', '▁없어도', '▁그래도', '▁나는', '▁괜찮', '아요', '▁그', '댈', '▁사랑', '하니까', '▁미안', '해요', '▁내가', '▁미안', '해요', '▁나', '▁때문에', '▁힘들', '었죠', '▁나', '▁때문에', '▁아', '팠', '겠죠', '▁바보', '처럼', '▁이제', '서야', '▁알', '것', '▁같아요', '▁가슴이', '▁원하는', '▁한', '▁사람', '▁바로', '▁그대', '이', '니까', '▁우', '~', '▁사랑', '해요', '▁영원', '</s>']\n",
      "사랑해요 지금 곁에 없지만 그대가 있어 이 세상이 난 행복한걸요 그대 잊지마요 세상 어디에서도 내 사랑을 기억해줘요 사랑해요 그댈 사랑해요 그대 때문에 이렇게 그대 때문에 이렇게 눈물이나 다신 그댈 볼수 없어도 그래도 나는 괜찮아요 그댈 사랑하니까 우리 매일 걷던 익숙한 이 거리도 나는 오늘도 낯설게만 또 느껴지네요 그대 없는 동안 많은게 변했어도 내 사랑만 멈춰서 있죠 사랑해요 그댈 사랑해요 그대 때문에 이렇게 그대 때문에 이렇게 눈물이나 다신 그댈 볼수 없어도 그래도 나는 괜찮아요 그댈 사랑하니까 미안해요 내가 미안해요 나 때문에 힘들었죠 나 때문에 아팠겠죠 바보처럼 이제서야 알것 같아요 가슴이 원하는 한 사람 바로 그대이니까 우~ 사랑해요 영원</s>\n",
      "251\n",
      "to_tokens: ['▁너', '해선', '▁안될', '▁사람이', '▁있죠', '▁열', '번', '▁사랑', '해도', '▁열', '번', '▁이뤄질', '▁수', '▁없는', '▁사랑', '도', '▁있죠', '▁유리', '병의', '▁촛불', '이', '▁보기', '엔', '▁아름답', '지만', '▁만', '질', '▁수가', '▁없', '잖아요', '▁다', '칠', '▁것을', '▁알', '잖아요', '▁우', '린', '▁아', '플', '▁거', '에요', '▁서로', '▁다', '칠', '▁거', '에요', '▁이런', '▁사랑에', '▁또', '▁눈물이', '▁나', '요', '▁나', '▁때문에', '▁더', '▁다', '치고', '▁나', '▁때문에', '▁더', '▁아프', '고', '▁나', '▁때문에', '▁예쁜', '▁눈이', '▁젖', '어버', '리', '잖아요', '▁S', 'OR', 'R', 'Y', '▁S', 'OR', 'R', 'Y', '▁S', 'OR', 'R', 'Y', '▁T', 'OO', '▁S', 'OR', 'R', 'Y', '▁S', 'OR', 'R', 'Y', '▁S', 'OR', 'R', 'Y', '▁내', '▁뒤에서', '▁울', '어버', '릴', '▁그', '대란', '▁걸', '▁알', '기에', '▁아파', '요', '▁아파', '요', '▁내', '▁맘', '이', '▁사랑', '해서', '▁보낼', '▁사람이', '▁있죠', '▁열', '번', '▁보내', '줘', '도', '▁절대', '▁지', '울', '▁수가', '▁없는', '▁사랑', '도', '▁있죠', '▁유리', '병의', '▁촛불', '이', '▁꺼', '진', '▁후에', '▁굳', '는', '▁것처럼', '▁사랑', '했던', '▁흔적', '들은', '▁어제', '처럼', '▁남아있', '죠', '▁나를', '▁잊지', '말', '아요', '▁나를', '▁지우', '지마', '요', '▁이런', '▁사랑에', '▁또', '▁눈물이', '▁나', '요', '▁나', '▁때문에', '▁더', '▁다', '치고', '▁나', '▁때문에', '▁더', '▁아프', '고', '▁나', '▁때문에', '▁예쁜', '▁눈이', '▁젖', '어버', '리', '잖아요', '▁S', 'OR', 'R', 'Y', '▁S', 'OR', 'R', 'Y', '▁S', 'OR', 'R', 'Y', '▁T', 'OO', '▁S', 'OR', 'R', 'Y', '▁S', 'OR', 'R', 'Y', '▁S', 'OR', 'R', 'Y', '▁내', '▁뒤에서', '▁울', '어버', '릴', '▁사랑', '인', '걸', '▁알', '기에', '▁마지막', '▁순간', '에도', '▁울', '지마', '요', '▁그대', '▁울', '지마', '요', '▁죽음', '보다', '▁깊은', '▁사랑', '이었', '음을', '▁기억', '해요', '▁그대', '라서', '▁아름답고', '▁그대', '라서', '▁행복', '했고', '▁그대', '라서', '▁보내', '주는', '▁사랑', '인', '걸', '▁알', '기에', '▁아파', '요']\n",
      "사랑해선 안될 사람이 있죠 열번 사랑해도 열번 이뤄질 수 없는 사랑도 있죠 유리병의 촛불이 보기엔 아름답지만 만질 수가 없잖아요 다칠 것을 알잖아요 우린 아플 거에요 서로 다칠 거에요 이런 사랑에 또 눈물이 나요 나 때문에 더 다치고 나 때문에 더 아프고 나 때문에 예쁜 눈이 젖어버리잖아요 SORRY SORRY SORRY TOO SORRY SORRY SORRY 내 뒤에서 울어버릴 그대란 걸 알기에 아파요 아파요 내 맘이 사랑해서 보낼 사람이 있죠 열번 보내줘도 절대 지울 수가 없는 사랑도 있죠 유리병의 촛불이 꺼진 후에 굳는 것처럼 사랑했던 흔적들은 어제처럼 남아있죠 나를 잊지말아요 나를 지우지마요 이런 사랑에 또 눈물이 나요 나 때문에 더 다치고 나 때문에 더 아프고 나 때문에 예쁜 눈이 젖어버리잖아요 SORRY SORRY SORRY TOO SORRY SORRY SORRY 내 뒤에서 울어버릴 사랑인걸 알기에 마지막 순간에도 울지마요 그대 울지마요 죽음보다 깊은 사랑이었음을 기억해요 그대라서 아름답고 그대라서 행복했고 그대라서 보내주는 사랑인걸 알기에 아파요\n",
      "good\n"
     ]
    }
   ],
   "source": [
    "!python3 generator.py --load_path='./checkpoint/2011-2019_발라드90000.tar' --tmp_sent='사랑' --loops=5"
   ]
  },
  {
   "cell_type": "code",
   "execution_count": 15,
   "metadata": {},
   "outputs": [
    {
     "name": "stdout",
     "output_type": "stream",
     "text": [
      "time : 4079.644875764847\n"
     ]
    }
   ],
   "source": [
    "print(\"time :\", time.time() - start)  # 현재시각 - 시작시간 = 실행 시간"
   ]
  },
  {
   "cell_type": "code",
   "execution_count": 16,
   "metadata": {},
   "outputs": [],
   "source": [
    "start = time.time()  # 시작 시간 저장"
   ]
  },
  {
   "cell_type": "code",
   "execution_count": 17,
   "metadata": {
    "scrolled": true
   },
   "outputs": [
    {
     "name": "stdout",
     "output_type": "stream",
     "text": [
      "/home/minji/.local/lib/python3.6/site-packages/mxnet/optimizer/optimizer.py:167: UserWarning: WARNING: New optimizer gluonnlp.optimizer.lamb.LAMB is overriding existing optimizer mxnet.optimizer.optimizer.LAMB\n",
      "  Optimizer.opt_registry[name].__name__))\n",
      "2020-11-27 10:07:39.266580: I tensorflow/stream_executor/platform/default/dso_loader.cc:48] Successfully opened dynamic library libcudart.so.10.1\n",
      "To use data.metrics please install scikit-learn. See https://scikit-learn.org/stable/index.html\n",
      "2020-11-27 10:07:40.910005: I tensorflow/stream_executor/platform/default/dso_loader.cc:48] Successfully opened dynamic library libcuda.so.1\n",
      "2020-11-27 10:07:40.921452: I tensorflow/core/common_runtime/gpu/gpu_device.cc:1716] Found device 0 with properties: \n",
      "pciBusID: 0000:65:00.0 name: TITAN RTX computeCapability: 7.5\n",
      "coreClock: 1.77GHz coreCount: 72 deviceMemorySize: 23.65GiB deviceMemoryBandwidth: 625.94GiB/s\n",
      "2020-11-27 10:07:40.922827: I tensorflow/core/common_runtime/gpu/gpu_device.cc:1716] Found device 1 with properties: \n",
      "pciBusID: 0000:b3:00.0 name: TITAN RTX computeCapability: 7.5\n",
      "coreClock: 1.77GHz coreCount: 72 deviceMemorySize: 23.65GiB deviceMemoryBandwidth: 625.94GiB/s\n",
      "2020-11-27 10:07:40.922908: I tensorflow/stream_executor/platform/default/dso_loader.cc:48] Successfully opened dynamic library libcudart.so.10.1\n",
      "2020-11-27 10:07:40.925279: I tensorflow/stream_executor/platform/default/dso_loader.cc:48] Successfully opened dynamic library libcublas.so.10\n",
      "2020-11-27 10:07:40.927323: I tensorflow/stream_executor/platform/default/dso_loader.cc:48] Successfully opened dynamic library libcufft.so.10\n",
      "2020-11-27 10:07:40.927778: I tensorflow/stream_executor/platform/default/dso_loader.cc:48] Successfully opened dynamic library libcurand.so.10\n",
      "2020-11-27 10:07:40.930281: I tensorflow/stream_executor/platform/default/dso_loader.cc:48] Successfully opened dynamic library libcusolver.so.10\n",
      "2020-11-27 10:07:40.931632: I tensorflow/stream_executor/platform/default/dso_loader.cc:48] Successfully opened dynamic library libcusparse.so.10\n",
      "2020-11-27 10:07:40.936803: I tensorflow/stream_executor/platform/default/dso_loader.cc:48] Successfully opened dynamic library libcudnn.so.7\n",
      "2020-11-27 10:07:40.941865: I tensorflow/core/common_runtime/gpu/gpu_device.cc:1858] Adding visible gpu devices: 0, 1\n",
      "2020-11-27 10:07:40.942298: I tensorflow/core/platform/cpu_feature_guard.cc:142] This TensorFlow binary is optimized with oneAPI Deep Neural Network Library (oneDNN)to use the following CPU instructions in performance-critical operations:  AVX2 AVX512F FMA\n",
      "To enable them in other operations, rebuild TensorFlow with the appropriate compiler flags.\n",
      "2020-11-27 10:07:40.971604: I tensorflow/core/platform/profile_utils/cpu_utils.cc:104] CPU Frequency: 3499910000 Hz\n",
      "2020-11-27 10:07:40.972442: I tensorflow/compiler/xla/service/service.cc:168] XLA service 0x6b0bfe0 initialized for platform Host (this does not guarantee that XLA will be used). Devices:\n",
      "2020-11-27 10:07:40.972483: I tensorflow/compiler/xla/service/service.cc:176]   StreamExecutor device (0): Host, Default Version\n",
      "2020-11-27 10:07:41.343853: I tensorflow/compiler/xla/service/service.cc:168] XLA service 0x7475960 initialized for platform CUDA (this does not guarantee that XLA will be used). Devices:\n",
      "2020-11-27 10:07:41.343899: I tensorflow/compiler/xla/service/service.cc:176]   StreamExecutor device (0): TITAN RTX, Compute Capability 7.5\n",
      "2020-11-27 10:07:41.343910: I tensorflow/compiler/xla/service/service.cc:176]   StreamExecutor device (1): TITAN RTX, Compute Capability 7.5\n",
      "2020-11-27 10:07:41.345146: I tensorflow/core/common_runtime/gpu/gpu_device.cc:1716] Found device 0 with properties: \n",
      "pciBusID: 0000:65:00.0 name: TITAN RTX computeCapability: 7.5\n",
      "coreClock: 1.77GHz coreCount: 72 deviceMemorySize: 23.65GiB deviceMemoryBandwidth: 625.94GiB/s\n",
      "2020-11-27 10:07:41.346276: I tensorflow/core/common_runtime/gpu/gpu_device.cc:1716] Found device 1 with properties: \n",
      "pciBusID: 0000:b3:00.0 name: TITAN RTX computeCapability: 7.5\n",
      "coreClock: 1.77GHz coreCount: 72 deviceMemorySize: 23.65GiB deviceMemoryBandwidth: 625.94GiB/s\n",
      "2020-11-27 10:07:41.346364: I tensorflow/stream_executor/platform/default/dso_loader.cc:48] Successfully opened dynamic library libcudart.so.10.1\n",
      "2020-11-27 10:07:41.346400: I tensorflow/stream_executor/platform/default/dso_loader.cc:48] Successfully opened dynamic library libcublas.so.10\n",
      "2020-11-27 10:07:41.346417: I tensorflow/stream_executor/platform/default/dso_loader.cc:48] Successfully opened dynamic library libcufft.so.10\n",
      "2020-11-27 10:07:41.346433: I tensorflow/stream_executor/platform/default/dso_loader.cc:48] Successfully opened dynamic library libcurand.so.10\n",
      "2020-11-27 10:07:41.346449: I tensorflow/stream_executor/platform/default/dso_loader.cc:48] Successfully opened dynamic library libcusolver.so.10\n",
      "2020-11-27 10:07:41.346464: I tensorflow/stream_executor/platform/default/dso_loader.cc:48] Successfully opened dynamic library libcusparse.so.10\n",
      "2020-11-27 10:07:41.346480: I tensorflow/stream_executor/platform/default/dso_loader.cc:48] Successfully opened dynamic library libcudnn.so.7\n",
      "2020-11-27 10:07:41.350099: I tensorflow/core/common_runtime/gpu/gpu_device.cc:1858] Adding visible gpu devices: 0, 1\n",
      "2020-11-27 10:07:41.350213: I tensorflow/stream_executor/platform/default/dso_loader.cc:48] Successfully opened dynamic library libcudart.so.10.1\n",
      "2020-11-27 10:07:43.747095: I tensorflow/core/common_runtime/gpu/gpu_device.cc:1257] Device interconnect StreamExecutor with strength 1 edge matrix:\n",
      "2020-11-27 10:07:43.747162: I tensorflow/core/common_runtime/gpu/gpu_device.cc:1263]      0 1 \n",
      "2020-11-27 10:07:43.747178: I tensorflow/core/common_runtime/gpu/gpu_device.cc:1276] 0:   N Y \n",
      "2020-11-27 10:07:43.747187: I tensorflow/core/common_runtime/gpu/gpu_device.cc:1276] 1:   Y N \n",
      "2020-11-27 10:07:43.750428: I tensorflow/core/common_runtime/gpu/gpu_device.cc:1402] Created TensorFlow device (/job:localhost/replica:0/task:0/device:GPU:0 with 14500 MB memory) -> physical GPU (device: 0, name: TITAN RTX, pci bus id: 0000:65:00.0, compute capability: 7.5)\n",
      "2020-11-27 10:07:43.752337: I tensorflow/core/common_runtime/gpu/gpu_device.cc:1402] Created TensorFlow device (/job:localhost/replica:0/task:0/device:GPU:1 with 22466 MB memory) -> physical GPU (device: 1, name: TITAN RTX, pci bus id: 0000:b3:00.0, compute capability: 7.5)\n",
      "using cached model\n",
      "using cached model\n",
      "using cached model\n",
      "229\n",
      "to_tokens: ['▁너', '▁없이', '▁흘러', '가는', '▁시간', '들', '▁감', '▁발', '걸', '음이', '▁무거', '워', '지는', '▁동안', '▁꿈을', '▁잊', '게', '▁된', '▁그', '▁날', '▁너', '로', '▁가득', '했던', '▁따', '스', '하던', '▁그', '▁날', '▁스', '치는', '▁바람이', '▁그', '▁때의', '▁널', '▁기억하고', '▁너', '로', '▁가득한', '▁이', '▁밤', '▁가로', '등', '▁불빛', '▁아래', '▁널', '▁품에', '▁안고', '▁이', '▁순간', '이', '▁멈추', '길', '▁바', '래', '보', '던', '▁수없이', '▁많은', '▁날', '들이', '▁스', '쳐', '▁지나', '가고', '▁아', '득', '해져', '▁흩어져', '버린', '▁시간', '▁속에', '▁널', '▁아무리', '▁그리워', '해', '봐도', '▁들', '리', '지도', '▁않는', '▁너', '의', '▁기억', '▁네가', '▁그리워', '▁진다', '▁또', '▁오늘', '따라', '▁네가', '▁생각이', '▁난다', '▁또', '▁따', '스', '한', '▁그', '▁바람이', '▁그', '▁때의', '▁널', '▁기억하고', '▁너', '로', '▁가득한', '▁이', '▁밤', '▁가로', '등', '▁불빛', '▁아래', '▁널', '▁품에', '▁안고', '▁이', '▁순간', '이', '▁멈추', '길', '▁바', '래', '보', '던', '▁수없이', '▁많은', '▁날', '들이', '▁스', '쳐', '▁지나', '가고', '▁아', '득', '해져', '▁흩어져', '버린', '▁시간', '▁속에', '▁널', '▁아무리', '▁그리워', '▁해', '봐도', '▁들', '리', '지도', '▁않는', '▁너', '의', '▁기억', '▁한참', '을', '▁그냥', '▁걷', '다가', '▁멈춰', '선', '▁발', '걸음', '▁돌아서', '면', '▁그', '▁날', '처럼', '▁네가', '▁서', '▁있을', '▁것', '▁같아', '▁눈물', '▁날', '▁것', '▁같아', '▁내', '▁맘', '이', '▁또', '▁널', '▁잊지', '▁못해', '▁한참', '을', '▁기다', '리다', '▁스', '치는', '▁바람', '결', '에도', '▁함께', '▁걷', '던', '▁그', '▁길', '▁위', '에도', '▁들려', '오는', '▁노래', '▁속', '에도', '▁그', '▁날', '의', '▁네가', '▁있어', '▁날', '▁부를', '▁것', '▁같아', '▁아무리', '▁잊', '으려', '▁해도', '▁또', '▁아무리', '▁그리워', '해도', '▁그', '▁날', '의', '▁너', '를', '▁난', '▁널', '▁널', '▁기억', '해', '▁기억', '</s>']\n",
      "휴식 없이 흘러가는 시간 속에 지친 발걸음이 무거워 잠시 동안 꿈을 잊게 된 그 날 너로 가득했던 따스한 그 날 스치는 바람이 그 때의 널 기억하고 너로 가득한 이 밤 가로등 불빛 아래 널 품에 안고 이 순간이 멈추길 바래보던 수없이 많은 날들이 스쳐 지나가고 아득해져 흩어져버린 시간 속에 널 아무리 그리워해봐도 들리지도 않는 너의 기억 네가 그리워 진다 또 오늘따라 네가 생각이 난다 또 따스한 그 바람이 그 때의 널 기억하고 너로 가득한 이 밤 가로등 불빛 아래 널 품에 안고 이 순간이 멈추길 바래보던 수없이 많은 날들이 스쳐 지나가고 아득해져 흩어져버린 시간 속에 널 아무리 그리워 해봐도 들리지도 않는 너의 기억 한참을 그냥 걷다가 멈춰선 발걸음 돌아서면 그 날처럼 네가 서 있을 것 같아 눈물 날 것 같아 내 맘이 또 널 잊지 못해 한참을 기다리다 스치는 바람결에도 함께 걷던 그 길 위에도 들려오는 노래 속에도 그 날의 네가 있어 날 부를 것 같아 아무리 잊으려 해도 또 아무리 그리워해도 그 날의 너를 난 널 널 기억해 기억</s>\n"
     ]
    },
    {
     "name": "stdout",
     "output_type": "stream",
     "text": [
      "228\n",
      "to_tokens: ['▁너', '▁없이', '▁흘러', '가는', '▁시간', '들', '▁감', '▁발', '걸', '음이', '▁무거', '워', '지는', '▁동안', '▁꿈을', '▁잊', '게', '▁된', '▁그', '▁날', '▁너', '로', '▁가득', '했던', '▁따', '스', '하던', '▁그', '▁날', '▁스', '치는', '▁바람이', '▁그', '▁때의', '▁널', '▁기억하고', '▁너', '로', '▁가득한', '▁이', '▁밤', '▁가로', '등', '▁불빛', '▁아래', '▁널', '▁품에', '▁안고', '▁이', '▁순간', '이', '▁멈추', '길', '▁바', '래', '보', '던', '▁수없이', '▁많은', '▁날', '들이', '▁스', '쳐', '▁지나', '가고', '▁아', '득', '해져', '▁흩어져', '버린', '▁시간', '▁속에', '▁널', '▁아무리', '▁그리워', '해', '봐도', '▁들', '리', '지도', '▁않는', '▁너', '의', '▁기억', '▁네가', '▁그리워', '▁진다', '▁또', '▁오늘', '따라', '▁네가', '▁생각이', '▁난다', '▁또', '▁따', '스', '한', '▁바람이', '▁그', '▁때의', '▁널', '▁기억하고', '▁너', '로', '▁가득한', '▁이', '▁밤', '▁가로', '등', '▁불빛', '▁아래', '▁널', '▁품에', '▁안고', '▁이', '▁순간', '이', '▁멈추', '길', '▁바', '래', '보', '던', '▁수없이', '▁많은', '▁날', '들이', '▁스', '쳐', '▁지나', '가고', '▁아', '득', '해져', '▁흩어져', '버린', '▁시간', '▁속에', '▁널', '▁아무리', '▁그리워', '▁해', '봐도', '▁들', '리', '지도', '▁않는', '▁너', '의', '▁기억', '▁한참', '을', '▁그냥', '▁걷', '다가', '▁멈춰', '선', '▁발', '걸음', '▁돌아서', '면', '▁그', '▁날', '처럼', '▁네가', '▁서', '▁있을', '▁것', '▁같아', '▁눈물', '▁날', '▁것', '▁같아', '▁내', '▁맘', '이', '▁또', '▁널', '▁잊지', '▁못해', '▁한참', '을', '▁기다', '리다', '▁스', '치는', '▁바람', '결', '에도', '▁함께', '▁걷', '던', '▁그', '▁길', '▁위', '에도', '▁들려', '오는', '▁노래', '▁속', '에도', '▁그', '▁날', '의', '▁네가', '▁있어', '▁날', '▁부를', '▁것', '▁같아', '▁아무리', '▁잊', '으려', '▁해도', '▁또', '▁아무리', '▁그리워', '해도', '▁그', '▁날', '의', '▁너', '를', '▁난', '▁널', '▁널', '▁기억', '해', '▁기억', '</s>']\n",
      "휴식 없이 흘러가는 시간 속에 지친 발걸음이 무거워 잠시 동안 꿈을 잊게 된 그 날 너로 가득했던 따스하던 그 날 스치는 바람이 그 때의 널 기억하고 너로 가득한 이 밤 가로등 불빛 아래 널 품에 안고 이 순간이 멈추길 바래보던 수없이 많은 날들이 스쳐 지나가고 아득해져 흩어져버린 시간 속에 널 아무리 그리워해봐도 들리지도 않는 너의 기억 네가 그리워 진다 또 오늘따라 네가 생각이 난다 또 따스한 바람이 그 때의 널 기억하고 너로 가득한 이 밤 가로등 불빛 아래 널 품에 안고 이 순간이 멈추길 바래보던 수없이 많은 날들이 스쳐 지나가고 아득해져 흩어져버린 시간 속에 널 아무리 그리워 해봐도 들리지도 않는 너의 기억 한참을 그냥 걷다가 멈춰선 발걸음 돌아서면 그 날처럼 네가 서 있을 것 같아 눈물 날 것 같아 내 맘이 또 널 잊지 못해 한참을 기다리다 스치는 바람결에도 함께 걷던 그 길 위에도 들려오는 노래 속에도 그 날의 네가 있어 날 부를 것 같아 아무리 잊으려 해도 또 아무리 그리워해도 그 날의 너를 난 널 널 기억해 기억</s>\n",
      "221\n",
      "to_tokens: ['▁너', '▁없이', '▁흘러', '가는', '▁시간', '들', '▁속', '▁후회', '들로', '▁남', '겨진', '▁시간', '들', '▁속', '▁후회', '들로', '▁남', '겨진', '▁시간', '들', '▁속', '▁후회', '들로', '▁남', '겨진', '▁시간', '들', '▁속', '▁후회', '들로', '▁남', '겨진', '▁시간', '들', '▁속', '▁후회', '들로', '▁남', '겨진', '▁시간', '들', '▁속', '▁후회', '들로', '▁남', '겨진', '▁시간', '들', '▁속', '▁후회', '들로', '▁남', '겨진', '▁시간', '들', '▁속', '▁후회', '들로', '▁남', '겨진', '▁시간', '들', '▁속', '▁후회', '▁아직', '▁잊지', '▁못해', '▁그저', '▁잠시', '만', '▁울', '어', '볼', '게', '▁그', '▁시간', '들', '▁속', '▁행복', '했던', '▁시간', '들', '▁잊', '▁아름답', '던', '▁그', '▁시간', '들', '▁이제는', '던', '▁그', '▁시간', '들', '▁제발', '플', '거', '▁같아', '▁한참', '을', '▁울', '어', '봐도', '▁니', '▁슬퍼', '▁난', '▁힘들', '보다', '가', '▁눈물이', '▁고', '여', '▁이', '▁시간', '들', '▁속', '▁행복', '했던', '▁시간', '들', '▁속', '▁난', '▁아직', '▁잊지', '▁못해', '▁그저', '▁잠시', '만', '▁울', '어', '볼', '게', '▁그', '▁시간', '들', '▁속', '▁행복', '했던', '▁시간', '들', '▁속', '▁난', '▁아직', '▁잊지', '▁못해', '▁그저', '▁잠시', '만', '▁울', '어', '볼', '게', '▁그', '▁시간', '들', '▁속', '▁행복', '했던', '▁시간', '들', '▁아', '플', '▁거', '▁같아', '▁한참', '을', '▁울', '어', '봐도', '▁아무도', '▁몰라', '▁넌', '▁바라', '보다', '▁눈물이', '▁눈물이', '▁고', '여', '▁이', '▁시간', '들', '▁속', '▁행복', '했던', '▁시간', '들', '▁속', '플', '▁거', '▁같아', '▁난', '▁아직', '▁잊지', '▁못해', '▁그저', '▁잠시', '만', '▁울', '어', '볼', '게', '▁그', '▁시간', '들', '▁속', '▁행복', '했던', '▁시간', '들', '▁아', '플', '▁거', '▁같아', '▁난', '▁아직', '▁잊지', '▁못해', '▁그저', '▁잠시', '만', '▁울', '어', '볼', '</s>']\n",
      "휴식 없이 흘러가는 시간들 속 후회들로 남겨진 시간들 속 후회들로 남겨진 시간들 속 후회들로 남겨진 시간들 속 후회들로 남겨진 시간들 속 후회들로 남겨진 시간들 속 후회들로 남겨진 시간들 속 후회들로 남겨진 시간들 속 후회들로 남겨진 시간들 속 난 아직 잊지 못해 그저 잠시만 울어볼게 그 시간들 속 행복했던 시간들 여전히 아름답던 그 시간들 아름답던 그 시간들 아플 거 같아 한참을 울어봐도 아무도 몰라 그저 바라보다가 눈물이 고여 이 시간들 속 행복했던 시간들 속 난 아직 잊지 못해 그저 잠시만 울어볼게 그 시간들 속 행복했던 시간들 속 난 아직 잊지 못해 그저 잠시만 울어볼게 그 시간들 속 행복했던 시간들 아플 거 같아 한참을 울어봐도 아무도 몰라 그저 바라보다가 눈물이 고여 이 시간들 속 행복했던 시간들 아플 거 같아 난 아직 잊지 못해 그저 잠시만 울어볼게 그 시간들 속 행복했던 시간들 아플 거 같아 난 아직 잊지 못해 그저 잠시만 울어볼</s>\n",
      "251\n",
      "to_tokens: ['▁너', '▁없이', '▁흘러', '가는', '▁시간', '▁시간', '들', '▁나는', '▁모르', '겠', '어', '▁매일', '▁밤', '▁잠', '▁못', '▁수', '▁없는', '▁밤', '▁창문', '▁느낌', '▁싫어', '▁그', '댄', '▁내게', '▁가', '나요', '▁내', '▁맘', '속에', '▁살고', '▁있는', '▁그', '대란', '▁사람', '▁오늘도', '▁그리워', '▁사라져', '가는', '▁이', '▁시간', '들', '▁나는', '▁모르', '겠', '어', '▁그저', '▁잠시', '라도', '▁눈을', '▁감', '고', '▁싶은', '데', '▁그', '에서', '라도', '▁널', '▁본다면', '▁내가', '련', '하게', '▁흘러', '오는', '▁이', '▁계절', '이', '▁날', '▁기억하고', '게', '▁해도', '▁난', '▁괜찮', '▁그대로', '▁그', '▁자리에', '▁남아', '▁사랑', '한', '▁이렇게', '도', '▁아프', '도록', '▁숨', '이', '▁차', '오르', '는데', '▁떨', '리는', '▁내', '▁가슴', '▁속에서', '▁사랑스', '런', '▁니', '가', '▁다', '가와', '▁해', '맑', '은', '▁미', '소로', '▁손을', '▁내밀', '어', '▁내가', '▁찾는', '▁나를', '▁사랑하는', '▁그런', '▁니', '▁모습', '▁아직', '▁볼', '▁수', '▁없지만', '▁그래도', '▁널', '▁향한', '▁마음', '▁멈추지', '▁않아', '▁니', '▁미', '소가', '▁자꾸', '▁떠올', '라', '▁오늘도', '▁그리워', '▁사라져', '가는', '▁이', '▁시간', '들', '▁나는', '▁모르', '겠', '어', '▁매일', '▁밤', '▁잠', '들', '▁수', '▁없는', '▁밤', '▁이', '▁느낌', '▁싫어', '▁그', '댄', '▁어디로', '▁가', '나요', '▁내', '▁맘', '속에', '▁살고', '▁있는', '▁그', '대란', '▁사람', '▁오늘도', '▁그리워', '▁사라져', '가는', '▁이', '▁시간', '들', '▁나는', '▁모르', '겠', '어', '▁그저', '▁잠시', '라도', '▁널', '▁볼', '▁수', '▁없는', '▁이', '▁시간', '들', '▁난', '▁모르', '겠', '어', '▁I', '▁모르', '겠', '어', '▁모르', '겠', '어', '▁난', '▁아직', '겠', '어', '▁시간이', '▁지나면', '▁지나', '갈', '수록', '▁숨', '막', '혀', '▁죽을', '▁것', '▁같은데', '▁다', '신', '▁이', '▁일', '▁못', '▁걷는', '다는', '▁걸', '▁알', '는데', '▁가슴이', '▁텅', '▁빈', '▁것', '▁같아', '▁눈물이', '▁자꾸', '▁흐', '르', '는데', '▁니', '▁찾는', '▁나를', '▁사랑하는', '▁그런', '▁니', '▁모습', '▁아직', '▁볼', '▁수', '▁없지만', '▁그래도', '▁널', '▁향한', '▁마음', '▁멈추지', '▁않아', '▁니', '▁미', '소가', '▁자꾸', '▁떠올', '라']\n",
      "휴식 없이 흘러가는 이 시간들 나는 모르겠어 매일 밤 잠들 수 없는 밤 이 느낌 싫어 그댄 어디로 가나요 내 맘속에 살고 있는 그대란 사람 오늘도 그리워 사라져가는 이 시간들 나는 모르겠어 그저 잠시라도 눈을 감고 싶은데 꿈에서라도 널 본다면 아련하게 흘러오는 이 계절이 날 멈추게 해도 난 아직 그대로 그 자리에 있어 사랑이란 이렇게도 아프도록 숨이 차오르는데 떨리는 내 가슴 속에서 사랑스런 니가 다가와 해맑은 미소로 손을 내밀어 내가 찾는 나를 사랑하는 그런 니 모습 아직 볼 수 없지만 그래도 널 향한 마음 멈추지 않아 니 미소가 자꾸 떠올라 오늘도 그리워 사라져가는 이 시간들 나는 모르겠어 매일 밤 잠들 수 없는 밤 이 느낌 싫어 그댄 어디로 가나요 내 맘속에 살고 있는 그대란 사람 오늘도 그리워 사라져가는 이 시간들 나는 모르겠어 그저 잠시라도 널 볼 수 없는 이 시간들 난 모르겠어 난 모르겠어 모르겠어 난 모르겠어 시간이 지나면 지나갈수록 숨막혀 죽을 것만 같은데 다신 이 길을 못 걷는다는 걸 아는데 가슴이 텅 빈 것 같아 눈물이 자꾸 흐르는데 내가 찾는 나를 사랑하는 그런 니 모습 아직 볼 수 없지만 그래도 널 향한 마음 멈추지 않아 니 미소가 자꾸 떠올라\n",
      "251\n",
      "to_tokens: ['▁너', '▁없이', '▁흘러', '가는', '▁시간', '들', '▁감', '▁발', '걸', '음이', '▁무거', '워', '지는', '▁동안', '▁꿈을', '▁잊', '게', '▁된', '▁그', '▁날', '▁다시', '▁때면', '▁이렇게', '▁포근', '▁한', '구', '석이', '▁답답', '해', '▁억지로', '▁멈춰', '갈', '▁내가', '▁더', '▁대신', '▁걷는', '▁것', '▁같아', '▁눈물', '▁없이', '▁흘러', '왔', '었던', '▁그', '▁날', '의', '▁내가', '▁아닌', '▁더', '▁나의', '▁길을', '▁가고', '▁있는', '▁P', 'ar', 'ad', 'ise', '▁푸른', '▁밤', '▁내려온', '▁한', '▁줌', '의', '▁빛', '처럼', '▁O', 'h', '▁저', '▁달을', '▁잡아', '당', '겨', '▁내', '▁앞에', '▁가져다', '▁줘', '▁우리', '▁둘', '만', '▁살', '▁수', '▁있는', '▁섬을', '▁만들어', '▁줘', '▁Sta', 'y', '▁with', '▁me', '▁나란히', '▁기대', '어', '▁저', '▁위를', '▁바라', '보면', '▁밤', '▁하늘', '▁가득', '▁펼쳐질', '▁우주', '▁내', '▁새벽', '을', '▁비춰', '줄', '▁Mo', 'on', 'l', 'ight', '▁다른', '▁누구보다', '▁빛', '나게', '▁T', 'ake', '▁me', '▁to', '▁the', '▁st', 'ars', '▁F', 'ly', '▁me', '▁to', '▁the', '▁m', 'oon', '▁쏟아지는', '▁달빛', '에', '▁나를', '▁비춰', '▁멀리', '서도', '▁날', '▁볼', '▁수', '▁있게', '▁아무리', '▁어두운', '▁밤', '이라', '▁해도', '▁나', '만은', '▁너', '만을', '▁위해', '▁밝게', '▁빛', '나고', '▁있어', '▁O', 'h', '▁b', 'ab', 'e', '▁I', '’', 'll', '▁be', '▁y', 'our', '▁s', 'ate', 'll', 'ite', '▁I', '’', 'll', '▁be', '▁y', 'our', '▁s', 'ate', 'll', 'ite', '▁품', '▁안에', '▁가득', '히', '▁나를', '▁안', '아', '줘', '▁변하지', '▁않을', '▁우주', '▁너', '의', '▁위', '성이', '▁될', '게', '▁W', 'hy', '▁d', 'on', '’', 't', '▁u', '▁lo', 've', '▁me', '▁to', '▁the', '▁m', 'oon', '▁and', '▁b', 'ack', '▁주위를', '▁도는', '▁달', '처럼', '▁내게', '▁머물러', '줘', '▁반짝', '이는', '▁별', '들처럼', '▁환하게', '▁웃', '어', '줘', '▁Sh', 'ine', '▁on', '▁me', '▁우리의', '▁공간을', '▁가득', '▁채우는', '▁S', 'ky', '▁별', '빛', '이', '▁내린', '▁찬', '란한', '▁오늘', '▁내', '▁시간을', '▁멈추', '는', '▁St', 'ar', 'l', 'ight', '▁다른']\n",
      "휴식 없이 흘러가는 시간 속에 지친 발걸음이 무거워 잠시 동안 꿈을 잊게 된 그대를 만날 때면 이렇게 마음 한구석이 답답해 시간이 지나도 내가 나를 대신 걷는 것 같아 쉼 없이 달려왔었던 그 날의 내가 아닌 누군가 나의 길을 가고 있어 Paradise 푸른 밤 내려온 한 줌의 빛처럼 Oh 저 달을 잡아당겨 내 앞에 가져다 줘 우리 둘만 살 수 있는 섬을 만들어 줘 Stay with me 나란히 기대어 저 위를 바라보면 밤 하늘 가득 펼쳐질 우주 내 새벽을 비춰줄 Moonlight 다른 누구보다 빛나게 Take me to the stars Fly me to the moon 쏟아지는 달빛에 나를 비춰 멀리서도 날 볼 수 있게 아무리 어두운 밤이라 해도 나만은 너만을 위해 밝게 빛나고 있어 Oh babe I’ll be your satellite I’ll be your satellite 품 안에 가득히 나를 안아줘 변하지 않을 우주 너의 위성이 될게 Why don’t u love me to the moon and back 주위를 도는 달처럼 내게 머물러줘 반짝이는 별들처럼 환하게 웃어줘 Shine on me 우리의 공간을 가득 채우는 Sky 별빛이 내린 찬란한 오늘 내 시간을 멈추는 Starlight 다른\n",
      "good\n"
     ]
    }
   ],
   "source": [
    "!python3 generator.py --load_path='./checkpoint/2011-2019_발라드90000.tar' --tmp_sent='휴식' --loops=5"
   ]
  },
  {
   "cell_type": "code",
   "execution_count": 18,
   "metadata": {},
   "outputs": [
    {
     "name": "stdout",
     "output_type": "stream",
     "text": [
      "time : 5158.0256288051605\n"
     ]
    }
   ],
   "source": [
    "print(\"time :\", time.time() - start)  # 현재시각 - 시작시간 = 실행 시간"
   ]
  },
  {
   "cell_type": "code",
   "execution_count": 19,
   "metadata": {},
   "outputs": [],
   "source": [
    "start = time.time()  # 시작 시간 저장"
   ]
  },
  {
   "cell_type": "code",
   "execution_count": 20,
   "metadata": {},
   "outputs": [
    {
     "name": "stdout",
     "output_type": "stream",
     "text": [
      "/home/minji/.local/lib/python3.6/site-packages/mxnet/optimizer/optimizer.py:167: UserWarning: WARNING: New optimizer gluonnlp.optimizer.lamb.LAMB is overriding existing optimizer mxnet.optimizer.optimizer.LAMB\n",
      "  Optimizer.opt_registry[name].__name__))\n",
      "2020-11-27 11:33:37.168416: I tensorflow/stream_executor/platform/default/dso_loader.cc:48] Successfully opened dynamic library libcudart.so.10.1\n",
      "To use data.metrics please install scikit-learn. See https://scikit-learn.org/stable/index.html\n",
      "2020-11-27 11:33:38.813650: I tensorflow/stream_executor/platform/default/dso_loader.cc:48] Successfully opened dynamic library libcuda.so.1\n",
      "2020-11-27 11:33:38.827554: I tensorflow/core/common_runtime/gpu/gpu_device.cc:1716] Found device 0 with properties: \n",
      "pciBusID: 0000:65:00.0 name: TITAN RTX computeCapability: 7.5\n",
      "coreClock: 1.77GHz coreCount: 72 deviceMemorySize: 23.65GiB deviceMemoryBandwidth: 625.94GiB/s\n",
      "2020-11-27 11:33:38.828936: I tensorflow/core/common_runtime/gpu/gpu_device.cc:1716] Found device 1 with properties: \n",
      "pciBusID: 0000:b3:00.0 name: TITAN RTX computeCapability: 7.5\n",
      "coreClock: 1.77GHz coreCount: 72 deviceMemorySize: 23.65GiB deviceMemoryBandwidth: 625.94GiB/s\n",
      "2020-11-27 11:33:38.829030: I tensorflow/stream_executor/platform/default/dso_loader.cc:48] Successfully opened dynamic library libcudart.so.10.1\n",
      "2020-11-27 11:33:38.831401: I tensorflow/stream_executor/platform/default/dso_loader.cc:48] Successfully opened dynamic library libcublas.so.10\n",
      "2020-11-27 11:33:38.833432: I tensorflow/stream_executor/platform/default/dso_loader.cc:48] Successfully opened dynamic library libcufft.so.10\n",
      "2020-11-27 11:33:38.833869: I tensorflow/stream_executor/platform/default/dso_loader.cc:48] Successfully opened dynamic library libcurand.so.10\n",
      "2020-11-27 11:33:38.836353: I tensorflow/stream_executor/platform/default/dso_loader.cc:48] Successfully opened dynamic library libcusolver.so.10\n",
      "2020-11-27 11:33:38.837652: I tensorflow/stream_executor/platform/default/dso_loader.cc:48] Successfully opened dynamic library libcusparse.so.10\n",
      "2020-11-27 11:33:38.842718: I tensorflow/stream_executor/platform/default/dso_loader.cc:48] Successfully opened dynamic library libcudnn.so.7\n",
      "2020-11-27 11:33:38.847845: I tensorflow/core/common_runtime/gpu/gpu_device.cc:1858] Adding visible gpu devices: 0, 1\n",
      "2020-11-27 11:33:38.848275: I tensorflow/core/platform/cpu_feature_guard.cc:142] This TensorFlow binary is optimized with oneAPI Deep Neural Network Library (oneDNN)to use the following CPU instructions in performance-critical operations:  AVX2 AVX512F FMA\n",
      "To enable them in other operations, rebuild TensorFlow with the appropriate compiler flags.\n",
      "2020-11-27 11:33:38.875617: I tensorflow/core/platform/profile_utils/cpu_utils.cc:104] CPU Frequency: 3499910000 Hz\n",
      "2020-11-27 11:33:38.876462: I tensorflow/compiler/xla/service/service.cc:168] XLA service 0x8fe37a0 initialized for platform Host (this does not guarantee that XLA will be used). Devices:\n",
      "2020-11-27 11:33:38.876500: I tensorflow/compiler/xla/service/service.cc:176]   StreamExecutor device (0): Host, Default Version\n",
      "2020-11-27 11:33:39.251841: I tensorflow/compiler/xla/service/service.cc:168] XLA service 0x904f2f0 initialized for platform CUDA (this does not guarantee that XLA will be used). Devices:\n",
      "2020-11-27 11:33:39.251884: I tensorflow/compiler/xla/service/service.cc:176]   StreamExecutor device (0): TITAN RTX, Compute Capability 7.5\n",
      "2020-11-27 11:33:39.251893: I tensorflow/compiler/xla/service/service.cc:176]   StreamExecutor device (1): TITAN RTX, Compute Capability 7.5\n",
      "2020-11-27 11:33:39.253082: I tensorflow/core/common_runtime/gpu/gpu_device.cc:1716] Found device 0 with properties: \n",
      "pciBusID: 0000:65:00.0 name: TITAN RTX computeCapability: 7.5\n",
      "coreClock: 1.77GHz coreCount: 72 deviceMemorySize: 23.65GiB deviceMemoryBandwidth: 625.94GiB/s\n",
      "2020-11-27 11:33:39.254175: I tensorflow/core/common_runtime/gpu/gpu_device.cc:1716] Found device 1 with properties: \n",
      "pciBusID: 0000:b3:00.0 name: TITAN RTX computeCapability: 7.5\n",
      "coreClock: 1.77GHz coreCount: 72 deviceMemorySize: 23.65GiB deviceMemoryBandwidth: 625.94GiB/s\n",
      "2020-11-27 11:33:39.254263: I tensorflow/stream_executor/platform/default/dso_loader.cc:48] Successfully opened dynamic library libcudart.so.10.1\n",
      "2020-11-27 11:33:39.254297: I tensorflow/stream_executor/platform/default/dso_loader.cc:48] Successfully opened dynamic library libcublas.so.10\n",
      "2020-11-27 11:33:39.254314: I tensorflow/stream_executor/platform/default/dso_loader.cc:48] Successfully opened dynamic library libcufft.so.10\n",
      "2020-11-27 11:33:39.254329: I tensorflow/stream_executor/platform/default/dso_loader.cc:48] Successfully opened dynamic library libcurand.so.10\n",
      "2020-11-27 11:33:39.254345: I tensorflow/stream_executor/platform/default/dso_loader.cc:48] Successfully opened dynamic library libcusolver.so.10\n",
      "2020-11-27 11:33:39.254361: I tensorflow/stream_executor/platform/default/dso_loader.cc:48] Successfully opened dynamic library libcusparse.so.10\n",
      "2020-11-27 11:33:39.254377: I tensorflow/stream_executor/platform/default/dso_loader.cc:48] Successfully opened dynamic library libcudnn.so.7\n",
      "2020-11-27 11:33:39.257961: I tensorflow/core/common_runtime/gpu/gpu_device.cc:1858] Adding visible gpu devices: 0, 1\n",
      "2020-11-27 11:33:39.258054: I tensorflow/stream_executor/platform/default/dso_loader.cc:48] Successfully opened dynamic library libcudart.so.10.1\n",
      "2020-11-27 11:33:41.590902: I tensorflow/core/common_runtime/gpu/gpu_device.cc:1257] Device interconnect StreamExecutor with strength 1 edge matrix:\n",
      "2020-11-27 11:33:41.590963: I tensorflow/core/common_runtime/gpu/gpu_device.cc:1263]      0 1 \n",
      "2020-11-27 11:33:41.590976: I tensorflow/core/common_runtime/gpu/gpu_device.cc:1276] 0:   N Y \n",
      "2020-11-27 11:33:41.590984: I tensorflow/core/common_runtime/gpu/gpu_device.cc:1276] 1:   Y N \n",
      "2020-11-27 11:33:41.594145: I tensorflow/core/common_runtime/gpu/gpu_device.cc:1402] Created TensorFlow device (/job:localhost/replica:0/task:0/device:GPU:0 with 14500 MB memory) -> physical GPU (device: 0, name: TITAN RTX, pci bus id: 0000:65:00.0, compute capability: 7.5)\n",
      "2020-11-27 11:33:41.595932: I tensorflow/core/common_runtime/gpu/gpu_device.cc:1402] Created TensorFlow device (/job:localhost/replica:0/task:0/device:GPU:1 with 22466 MB memory) -> physical GPU (device: 1, name: TITAN RTX, pci bus id: 0000:b3:00.0, compute capability: 7.5)\n",
      "using cached model\n",
      "using cached model\n",
      "using cached model\n",
      "149\n",
      "to_tokens: ['▁너', '해선', '▁지금', '▁곁에', '▁없지만', '▁그', '대가', '▁있어', '▁이', '▁세상이', '▁난', '▁행복한', '걸', '요', '▁그대', '▁잊', '지마', '요', '▁세상', '▁어디', '에서도', '▁내', '▁사랑을', '▁기억', '해', '줘', '요', '▁사랑', '해요', '▁그', '댈', '▁사랑', '해요', '▁그대', '▁때문에', '▁이렇게', '▁그대', '▁때문에', '▁이렇게', '▁눈물', '이나', '▁다', '신', '▁그', '댈', '▁볼', '수', '▁없어도', '▁그래도', '▁나는', '▁괜찮', '아요', '▁그', '댈', '▁사랑', '하니까', '▁우리', '▁매일', '▁걷', '던', '▁익숙한', '▁이', '▁거리', '도', '▁나는', '▁오늘도', '▁낯설', '게', '만', '▁또', '▁느껴', '지', '네요', '▁그대', '▁없는', '▁동안', '▁많은', '게', '▁변', '했', '어도', '▁내', '▁사랑', '만', '▁멈춰', '서', '▁있죠', '▁사랑', '해요', '▁그', '댈', '▁사랑', '해요', '▁그대', '▁때문에', '▁이렇게', '▁그대', '▁때문에', '▁이렇게', '▁눈물', '이나', '▁다', '신', '▁그', '댈', '▁볼', '수', '▁없어도', '▁그래도', '▁나는', '▁괜찮', '아요', '▁그', '댈', '▁사랑', '하니까', '▁미안', '해요', '▁내가', '▁미안', '해요', '▁나', '▁때문에', '▁힘들', '었죠', '▁나', '▁때문에', '▁아', '팠', '겠죠', '▁바보', '처럼', '▁이제', '서야', '▁알', '것', '▁같아요', '▁가슴이', '▁원하는', '▁한', '▁사람', '▁바로', '▁그대', '이', '니까', '▁우', '~', '▁사랑', '해요', '▁영원', '</s>']\n",
      "사랑해요 지금 곁에 없지만 그대가 있어 이 세상이 난 행복한걸요 그대 잊지마요 세상 어디에서도 내 사랑을 기억해줘요 사랑해요 그댈 사랑해요 그대 때문에 이렇게 그대 때문에 이렇게 눈물이나 다신 그댈 볼수 없어도 그래도 나는 괜찮아요 그댈 사랑하니까 우리 매일 걷던 익숙한 이 거리도 나는 오늘도 낯설게만 또 느껴지네요 그대 없는 동안 많은게 변했어도 내 사랑만 멈춰서 있죠 사랑해요 그댈 사랑해요 그대 때문에 이렇게 그대 때문에 이렇게 눈물이나 다신 그댈 볼수 없어도 그래도 나는 괜찮아요 그댈 사랑하니까 미안해요 내가 미안해요 나 때문에 힘들었죠 나 때문에 아팠겠죠 바보처럼 이제서야 알것 같아요 가슴이 원하는 한 사람 바로 그대이니까 우~ 사랑해요 영원</s>\n",
      "207\n",
      "to_tokens: ['▁너', '해선', '▁미안', '하다', '▁그래', '▁더는', '▁안', '되', '겠', '어', '▁난', '▁다가', '갈', '▁자격', '▁조차', '▁없어', '▁날', '▁사랑', '하지', '▁마', '▁내', '겐', '▁마음을', '▁내어', '줄', '▁여유', '도', '▁없어', '▁매', '일을', '▁힘', '겹', '게', '▁살고', '▁하루가', '▁버거', '워', '▁울고', '▁오', '▁난', '▁네', '게', '▁줄', '▁수', '▁있는', '게', '▁없어', '▁m', 'iss', 'ing', '▁U', '▁따뜻한', '▁말도', '▁못해', '▁I', '▁m', 'iss', 'ing', '▁U', '▁감히', '▁바', '랄', '▁수도', '▁없어', '▁I', '▁m', 'iss', 'ing', '▁U', '▁이렇게', '▁밀어', '내', '▁내', '겐', '▁가진', '건', '▁심장', '뿐', '▁못', '난', '▁놈', '이라', '▁참고', '있어', '▁아프', '지만', '▁내', '겐', '▁눈물', '도', '▁사치', '야', '▁널', '▁바라', '볼', '▁자격', '▁조차', '▁없어', '▁날', '▁바라', '보지', '▁마', '▁알아', '▁너', '▁있는', '▁그곳에', '▁내', '▁맘', '이', '▁있어', '▁숨', '결', '이', '▁닿', '을', '▁거리에', '▁언제나', '▁같은', '▁자리에', '▁오', '▁난', '▁네', '게', '▁줄', '▁수', '▁있는', '게', '▁없어', '▁m', 'iss', 'ing', '▁U', '▁따뜻한', '▁말도', '▁못해', '▁I', '▁m', 'iss', 'ing', '▁U', '▁감히', '▁바', '랄', '▁수도', '▁없어', '▁I', '▁m', 'iss', 'ing', '▁U', '▁이렇게', '▁밀어', '내', '▁세상', '▁누구보다', '▁너', '를', '▁사랑', '하기에', '▁참', '아', '▁더', '▁오', '▁난', '▁니', '▁손', '▁잡아', '줄', '▁수가', '▁없어', '▁m', 'iss', 'ing', '▁U', '▁눈물', '만', '▁안', '길', '까봐', '▁I', '▁m', 'iss', 'ing', '▁U', '▁함께', '▁하', '잘', '▁수가', '▁없어', '▁I', '▁m', 'iss', 'ing', '▁U', '▁힘', '겹', '게', '▁돌아서', '▁내', '겐', '▁가진', '건', '▁심장', '뿐', '▁못', '난', '▁놈', '이', '</s>']\n",
      "사랑한다 미안하다 그래 더는 안되겠어 난 다가갈 자격 조차 없어 날 사랑하지 마 내겐 마음을 내어줄 여유도 없어 매일을 힘겹게 살고 하루가 버거워 울고 오 난 네게 줄 수 있는게 없어 missing U 따뜻한 말도 못해 I missing U 감히 바랄 수도 없어 I missing U 이렇게 밀어내 내겐 가진건 심장뿐 못난 놈이라 참고있어 아프지만 내겐 눈물도 사치야 널 바라볼 자격 조차 없어 날 바라보지 마 알아 너 있는 그곳에 내 맘이 있어 숨결이 닿을 거리에 언제나 같은 자리에 오 난 네게 줄 수 있는게 없어 missing U 따뜻한 말도 못해 I missing U 감히 바랄 수도 없어 I missing U 이렇게 밀어내 세상 누구보다 너를 사랑하기에 참아 더 오 난 니 손 잡아줄 수가 없어 missing U 눈물만 안길까봐 I missing U 함께 하잘 수가 없어 I missing U 힘겹게 돌아서 내겐 가진건 심장뿐 못난 놈이</s>\n"
     ]
    },
    {
     "name": "stdout",
     "output_type": "stream",
     "text": [
      "207\n",
      "to_tokens: ['▁너', '해선', '▁미안', '하다', '▁그래', '▁더는', '▁안', '되', '겠', '어', '▁난', '▁다가', '갈', '▁자격', '▁조차', '▁없어', '▁날', '▁사랑', '하지', '▁마', '▁내', '겐', '▁마음을', '▁내어', '줄', '▁여유', '도', '▁없어', '▁매', '일을', '▁힘', '겹', '게', '▁살고', '▁하루가', '▁버거', '워', '▁울고', '▁오', '▁난', '▁네', '게', '▁줄', '▁수', '▁있는', '게', '▁없어', '▁m', 'iss', 'ing', '▁U', '▁따뜻한', '▁말도', '▁못해', '▁I', '▁m', 'iss', 'ing', '▁U', '▁감히', '▁바', '랄', '▁수도', '▁없어', '▁I', '▁m', 'iss', 'ing', '▁U', '▁이렇게', '▁밀어', '내', '▁내', '겐', '▁가진', '건', '▁심장', '뿐', '▁못', '난', '▁놈', '이라', '▁참고', '있어', '▁아프', '지만', '▁내', '겐', '▁눈물', '도', '▁사치', '야', '▁널', '▁바라', '볼', '▁자격', '▁조차', '▁없어', '▁날', '▁바라', '보지', '▁마', '▁알아', '▁너', '▁있는', '▁그곳에', '▁내', '▁맘', '이', '▁있어', '▁숨', '결', '이', '▁닿', '을', '▁거리에', '▁언제나', '▁같은', '▁자리에', '▁오', '▁난', '▁네', '게', '▁줄', '▁수', '▁있는', '게', '▁없어', '▁m', 'iss', 'ing', '▁U', '▁따뜻한', '▁말도', '▁못해', '▁I', '▁m', 'iss', 'ing', '▁U', '▁감히', '▁바', '랄', '▁수도', '▁없어', '▁I', '▁m', 'iss', 'ing', '▁U', '▁이렇게', '▁밀어', '내', '▁세상', '▁누구보다', '▁너', '를', '▁사랑', '하기에', '▁참', '아', '▁더', '▁오', '▁난', '▁니', '▁손', '▁잡아', '줄', '▁수가', '▁없어', '▁m', 'iss', 'ing', '▁U', '▁눈물', '만', '▁안', '길', '까봐', '▁I', '▁m', 'iss', 'ing', '▁U', '▁함께', '▁하', '잘', '▁수가', '▁없어', '▁I', '▁m', 'iss', 'ing', '▁U', '▁힘', '겹', '게', '▁돌아서', '▁내', '겐', '▁가진', '건', '▁심장', '뿐', '▁못', '난', '▁놈', '이', '</s>']\n",
      "사랑한다 미안하다 그래 더는 안되겠어 난 다가갈 자격 조차 없어 날 사랑하지 마 내겐 마음을 내어줄 여유도 없어 매일을 힘겹게 살고 하루가 버거워 울고 오 난 네게 줄 수 있는게 없어 missing U 따뜻한 말도 못해 I missing U 감히 바랄 수도 없어 I missing U 이렇게 밀어내 내겐 가진건 심장뿐 못난 놈이라 참고있어 아프지만 내겐 눈물도 사치야 널 바라볼 자격 조차 없어 날 바라보지 마 알아 너 있는 그곳에 내 맘이 있어 숨결이 닿을 거리에 언제나 같은 자리에 오 난 네게 줄 수 있는게 없어 missing U 따뜻한 말도 못해 I missing U 감히 바랄 수도 없어 I missing U 이렇게 밀어내 세상 누구보다 너를 사랑하기에 참아 더 오 난 니 손 잡아줄 수가 없어 missing U 눈물만 안길까봐 I missing U 함께 하잘 수가 없어 I missing U 힘겹게 돌아서 내겐 가진건 심장뿐 못난 놈이</s>\n",
      "251\n",
      "to_tokens: ['▁너', '해선', '▁안될', '▁사람이', '▁있죠', '▁열', '번', '▁사랑', '해도', '▁열', '번', '▁이뤄질', '▁수', '▁없는', '▁사랑', '도', '▁있죠', '▁유리', '병의', '▁촛불', '이', '▁보기', '엔', '▁아름답', '지만', '▁만', '질', '▁수가', '▁없', '잖아요', '▁다', '칠', '▁것을', '▁알', '잖아요', '▁우', '린', '▁아', '플', '▁거', '에요', '▁서로', '▁다', '칠', '▁거', '에요', '▁이런', '▁사랑에', '▁또', '▁눈물이', '▁나', '요', '▁나', '▁때문에', '▁더', '▁다', '치고', '▁나', '▁때문에', '▁더', '▁아프', '고', '▁나', '▁때문에', '▁예쁜', '▁눈이', '▁젖', '어버', '리', '잖아요', '▁S', 'OR', 'R', 'Y', '▁S', 'OR', 'R', 'Y', '▁S', 'OR', 'R', 'Y', '▁T', 'OO', '▁S', 'OR', 'R', 'Y', '▁S', 'OR', 'R', 'Y', '▁S', 'OR', 'R', 'Y', '▁내', '▁뒤에서', '▁울', '어버', '릴', '▁그', '대란', '▁걸', '▁알', '기에', '▁아파', '요', '▁아파', '요', '▁내', '▁맘', '이', '▁사랑', '해서', '▁보낼', '▁사람이', '▁있죠', '▁열', '번', '▁보내', '줘', '도', '▁절대', '▁지', '울', '▁수가', '▁없는', '▁사랑', '도', '▁있죠', '▁유리', '병의', '▁촛불', '이', '▁꺼', '진', '▁후에', '▁굳', '는', '▁것처럼', '▁사랑', '했던', '▁흔적', '들은', '▁어제', '처럼', '▁남아있', '죠', '▁나를', '▁잊지', '말', '아요', '▁나를', '▁지우', '지마', '요', '▁이런', '▁사랑에', '▁또', '▁눈물이', '▁나', '요', '▁나', '▁때문에', '▁더', '▁다', '치고', '▁나', '▁때문에', '▁더', '▁아프', '고', '▁나', '▁때문에', '▁예쁜', '▁눈이', '▁젖', '어버', '리', '잖아요', '▁S', 'OR', 'R', 'Y', '▁S', 'OR', 'R', 'Y', '▁S', 'OR', 'R', 'Y', '▁T', 'OO', '▁S', 'OR', 'R', 'Y', '▁S', 'OR', 'R', 'Y', '▁S', 'OR', 'R', 'Y', '▁내', '▁뒤에서', '▁울', '어버', '릴', '▁사랑', '인', '걸', '▁알', '기에', '▁마지막', '▁순간', '에도', '▁울', '지마', '요', '▁그대', '▁울', '지마', '요', '▁죽음', '보다', '▁깊은', '▁사랑', '이었', '음을', '▁기억', '해요', '▁그대', '라서', '▁아름답고', '▁그대', '라서', '▁행복', '했고', '▁그대', '라서', '▁보내', '주는', '▁사랑', '인', '걸', '▁알', '기에', '▁아파', '요']\n",
      "사랑해선 안될 사람이 있죠 열번 사랑해도 열번 이뤄질 수 없는 사랑도 있죠 유리병의 촛불이 보기엔 아름답지만 만질 수가 없잖아요 다칠 것을 알잖아요 우린 아플 거에요 서로 다칠 거에요 이런 사랑에 또 눈물이 나요 나 때문에 더 다치고 나 때문에 더 아프고 나 때문에 예쁜 눈이 젖어버리잖아요 SORRY SORRY SORRY TOO SORRY SORRY SORRY 내 뒤에서 울어버릴 그대란 걸 알기에 아파요 아파요 내 맘이 사랑해서 보낼 사람이 있죠 열번 보내줘도 절대 지울 수가 없는 사랑도 있죠 유리병의 촛불이 꺼진 후에 굳는 것처럼 사랑했던 흔적들은 어제처럼 남아있죠 나를 잊지말아요 나를 지우지마요 이런 사랑에 또 눈물이 나요 나 때문에 더 다치고 나 때문에 더 아프고 나 때문에 예쁜 눈이 젖어버리잖아요 SORRY SORRY SORRY TOO SORRY SORRY SORRY 내 뒤에서 울어버릴 사랑인걸 알기에 마지막 순간에도 울지마요 그대 울지마요 죽음보다 깊은 사랑이었음을 기억해요 그대라서 아름답고 그대라서 행복했고 그대라서 보내주는 사랑인걸 알기에 아파요\n",
      "251\n",
      "to_tokens: ['▁너', '해선', '▁안될', '▁사람이', '▁있죠', '▁열', '번', '▁사랑', '해도', '▁열', '번', '▁이뤄질', '▁수', '▁없는', '▁사랑', '도', '▁있죠', '▁유리', '병의', '▁촛불', '이', '▁보기', '엔', '▁아름답', '지만', '▁만', '질', '▁수가', '▁없', '잖아요', '▁다', '칠', '▁것을', '▁알', '잖아요', '▁우', '린', '▁아', '플', '▁거', '에요', '▁서로', '▁다', '칠', '▁거', '에요', '▁이런', '▁사랑에', '▁또', '▁눈물이', '▁나', '요', '▁나', '▁때문에', '▁더', '▁다', '치고', '▁나', '▁때문에', '▁더', '▁아프', '고', '▁나', '▁때문에', '▁예쁜', '▁눈이', '▁젖', '어버', '리', '잖아요', '▁S', 'OR', 'R', 'Y', '▁S', 'OR', 'R', 'Y', '▁S', 'OR', 'R', 'Y', '▁T', 'OO', '▁S', 'OR', 'R', 'Y', '▁S', 'OR', 'R', 'Y', '▁S', 'OR', 'R', 'Y', '▁내', '▁뒤에서', '▁울', '어버', '릴', '▁그', '대란', '▁걸', '▁알', '기에', '▁아파', '요', '▁아파', '요', '▁내', '▁맘', '이', '▁사랑', '해서', '▁보낼', '▁사람이', '▁있죠', '▁열', '번', '▁보내', '줘', '도', '▁절대', '▁지', '울', '▁수가', '▁없는', '▁사랑', '도', '▁있죠', '▁유리', '병의', '▁촛불', '이', '▁꺼', '진', '▁후에', '▁굳', '는', '▁것처럼', '▁사랑', '했던', '▁흔적', '들은', '▁어제', '처럼', '▁남아있', '죠', '▁나를', '▁잊지', '말', '아요', '▁나를', '▁지우', '지마', '요', '▁이런', '▁사랑에', '▁또', '▁눈물이', '▁나', '요', '▁나', '▁때문에', '▁더', '▁다', '치고', '▁나', '▁때문에', '▁더', '▁아프', '고', '▁나', '▁때문에', '▁예쁜', '▁눈이', '▁젖', '어버', '리', '잖아요', '▁S', 'OR', 'R', 'Y', '▁S', 'OR', 'R', 'Y', '▁S', 'OR', 'R', 'Y', '▁T', 'OO', '▁S', 'OR', 'R', 'Y', '▁S', 'OR', 'R', 'Y', '▁S', 'OR', 'R', 'Y', '▁내', '▁뒤에서', '▁울', '어버', '릴', '▁사랑', '인', '걸', '▁알', '기에', '▁마지막', '▁순간', '에도', '▁울', '지마', '요', '▁그대', '▁울', '지마', '요', '▁죽음', '보다', '▁깊은', '▁사랑', '이었', '음을', '▁기억', '해요', '▁그대', '라서', '▁아름답고', '▁그대', '라서', '▁행복', '했고', '▁그대', '라서', '▁보내', '주는', '▁사랑', '인', '걸', '▁알', '기에', '▁아파', '요']\n",
      "사랑해선 안될 사람이 있죠 열번 사랑해도 열번 이뤄질 수 없는 사랑도 있죠 유리병의 촛불이 보기엔 아름답지만 만질 수가 없잖아요 다칠 것을 알잖아요 우린 아플 거에요 서로 다칠 거에요 이런 사랑에 또 눈물이 나요 나 때문에 더 다치고 나 때문에 더 아프고 나 때문에 예쁜 눈이 젖어버리잖아요 SORRY SORRY SORRY TOO SORRY SORRY SORRY 내 뒤에서 울어버릴 그대란 걸 알기에 아파요 아파요 내 맘이 사랑해서 보낼 사람이 있죠 열번 보내줘도 절대 지울 수가 없는 사랑도 있죠 유리병의 촛불이 꺼진 후에 굳는 것처럼 사랑했던 흔적들은 어제처럼 남아있죠 나를 잊지말아요 나를 지우지마요 이런 사랑에 또 눈물이 나요 나 때문에 더 다치고 나 때문에 더 아프고 나 때문에 예쁜 눈이 젖어버리잖아요 SORRY SORRY SORRY TOO SORRY SORRY SORRY 내 뒤에서 울어버릴 사랑인걸 알기에 마지막 순간에도 울지마요 그대 울지마요 죽음보다 깊은 사랑이었음을 기억해요 그대라서 아름답고 그대라서 행복했고 그대라서 보내주는 사랑인걸 알기에 아파요\n",
      "good\n"
     ]
    }
   ],
   "source": [
    "!python3 generator.py --load_path='./checkpoint/2011-2019_발라드90000.tar' --tmp_sent='사랑' --loops=5 --temperature=1.0"
   ]
  },
  {
   "cell_type": "code",
   "execution_count": 21,
   "metadata": {},
   "outputs": [
    {
     "name": "stdout",
     "output_type": "stream",
     "text": [
      "time : 2239.422265291214\n"
     ]
    }
   ],
   "source": [
    "print(\"time :\", time.time() - start)  # 현재시각 - 시작시간 = 실행 시간"
   ]
  },
  {
   "cell_type": "code",
   "execution_count": 22,
   "metadata": {},
   "outputs": [],
   "source": [
    "start = time.time()  # 시작 시간 저장"
   ]
  },
  {
   "cell_type": "code",
   "execution_count": 23,
   "metadata": {},
   "outputs": [
    {
     "name": "stdout",
     "output_type": "stream",
     "text": [
      "/home/minji/.local/lib/python3.6/site-packages/mxnet/optimizer/optimizer.py:167: UserWarning: WARNING: New optimizer gluonnlp.optimizer.lamb.LAMB is overriding existing optimizer mxnet.optimizer.optimizer.LAMB\n",
      "  Optimizer.opt_registry[name].__name__))\n",
      "2020-11-27 12:10:56.309942: I tensorflow/stream_executor/platform/default/dso_loader.cc:48] Successfully opened dynamic library libcudart.so.10.1\n",
      "To use data.metrics please install scikit-learn. See https://scikit-learn.org/stable/index.html\n",
      "2020-11-27 12:10:57.891740: I tensorflow/stream_executor/platform/default/dso_loader.cc:48] Successfully opened dynamic library libcuda.so.1\n",
      "2020-11-27 12:10:57.909471: I tensorflow/core/common_runtime/gpu/gpu_device.cc:1716] Found device 0 with properties: \n",
      "pciBusID: 0000:65:00.0 name: TITAN RTX computeCapability: 7.5\n",
      "coreClock: 1.77GHz coreCount: 72 deviceMemorySize: 23.65GiB deviceMemoryBandwidth: 625.94GiB/s\n",
      "2020-11-27 12:10:57.911482: I tensorflow/core/common_runtime/gpu/gpu_device.cc:1716] Found device 1 with properties: \n",
      "pciBusID: 0000:b3:00.0 name: TITAN RTX computeCapability: 7.5\n",
      "coreClock: 1.77GHz coreCount: 72 deviceMemorySize: 23.65GiB deviceMemoryBandwidth: 625.94GiB/s\n",
      "2020-11-27 12:10:57.911559: I tensorflow/stream_executor/platform/default/dso_loader.cc:48] Successfully opened dynamic library libcudart.so.10.1\n",
      "2020-11-27 12:10:57.913888: I tensorflow/stream_executor/platform/default/dso_loader.cc:48] Successfully opened dynamic library libcublas.so.10\n",
      "2020-11-27 12:10:57.915877: I tensorflow/stream_executor/platform/default/dso_loader.cc:48] Successfully opened dynamic library libcufft.so.10\n",
      "2020-11-27 12:10:57.916277: I tensorflow/stream_executor/platform/default/dso_loader.cc:48] Successfully opened dynamic library libcurand.so.10\n",
      "2020-11-27 12:10:57.918727: I tensorflow/stream_executor/platform/default/dso_loader.cc:48] Successfully opened dynamic library libcusolver.so.10\n",
      "2020-11-27 12:10:57.920002: I tensorflow/stream_executor/platform/default/dso_loader.cc:48] Successfully opened dynamic library libcusparse.so.10\n",
      "2020-11-27 12:10:57.924995: I tensorflow/stream_executor/platform/default/dso_loader.cc:48] Successfully opened dynamic library libcudnn.so.7\n",
      "2020-11-27 12:10:57.932821: I tensorflow/core/common_runtime/gpu/gpu_device.cc:1858] Adding visible gpu devices: 0, 1\n",
      "2020-11-27 12:10:57.933232: I tensorflow/core/platform/cpu_feature_guard.cc:142] This TensorFlow binary is optimized with oneAPI Deep Neural Network Library (oneDNN)to use the following CPU instructions in performance-critical operations:  AVX2 AVX512F FMA\n",
      "To enable them in other operations, rebuild TensorFlow with the appropriate compiler flags.\n",
      "2020-11-27 12:10:57.959587: I tensorflow/core/platform/profile_utils/cpu_utils.cc:104] CPU Frequency: 3499910000 Hz\n",
      "2020-11-27 12:10:57.960421: I tensorflow/compiler/xla/service/service.cc:168] XLA service 0x826c1f0 initialized for platform Host (this does not guarantee that XLA will be used). Devices:\n",
      "2020-11-27 12:10:57.960453: I tensorflow/compiler/xla/service/service.cc:176]   StreamExecutor device (0): Host, Default Version\n",
      "2020-11-27 12:10:58.367235: I tensorflow/compiler/xla/service/service.cc:168] XLA service 0x8bd85d0 initialized for platform CUDA (this does not guarantee that XLA will be used). Devices:\n",
      "2020-11-27 12:10:58.367276: I tensorflow/compiler/xla/service/service.cc:176]   StreamExecutor device (0): TITAN RTX, Compute Capability 7.5\n",
      "2020-11-27 12:10:58.367286: I tensorflow/compiler/xla/service/service.cc:176]   StreamExecutor device (1): TITAN RTX, Compute Capability 7.5\n",
      "2020-11-27 12:10:58.368566: I tensorflow/core/common_runtime/gpu/gpu_device.cc:1716] Found device 0 with properties: \n",
      "pciBusID: 0000:65:00.0 name: TITAN RTX computeCapability: 7.5\n",
      "coreClock: 1.77GHz coreCount: 72 deviceMemorySize: 23.65GiB deviceMemoryBandwidth: 625.94GiB/s\n",
      "2020-11-27 12:10:58.369606: I tensorflow/core/common_runtime/gpu/gpu_device.cc:1716] Found device 1 with properties: \n",
      "pciBusID: 0000:b3:00.0 name: TITAN RTX computeCapability: 7.5\n",
      "coreClock: 1.77GHz coreCount: 72 deviceMemorySize: 23.65GiB deviceMemoryBandwidth: 625.94GiB/s\n",
      "2020-11-27 12:10:58.369692: I tensorflow/stream_executor/platform/default/dso_loader.cc:48] Successfully opened dynamic library libcudart.so.10.1\n",
      "2020-11-27 12:10:58.369725: I tensorflow/stream_executor/platform/default/dso_loader.cc:48] Successfully opened dynamic library libcublas.so.10\n",
      "2020-11-27 12:10:58.369743: I tensorflow/stream_executor/platform/default/dso_loader.cc:48] Successfully opened dynamic library libcufft.so.10\n",
      "2020-11-27 12:10:58.369759: I tensorflow/stream_executor/platform/default/dso_loader.cc:48] Successfully opened dynamic library libcurand.so.10\n",
      "2020-11-27 12:10:58.369776: I tensorflow/stream_executor/platform/default/dso_loader.cc:48] Successfully opened dynamic library libcusolver.so.10\n",
      "2020-11-27 12:10:58.369791: I tensorflow/stream_executor/platform/default/dso_loader.cc:48] Successfully opened dynamic library libcusparse.so.10\n",
      "2020-11-27 12:10:58.369807: I tensorflow/stream_executor/platform/default/dso_loader.cc:48] Successfully opened dynamic library libcudnn.so.7\n",
      "2020-11-27 12:10:58.373589: I tensorflow/core/common_runtime/gpu/gpu_device.cc:1858] Adding visible gpu devices: 0, 1\n",
      "2020-11-27 12:10:58.373683: I tensorflow/stream_executor/platform/default/dso_loader.cc:48] Successfully opened dynamic library libcudart.so.10.1\n",
      "2020-11-27 12:11:00.065686: I tensorflow/core/common_runtime/gpu/gpu_device.cc:1257] Device interconnect StreamExecutor with strength 1 edge matrix:\n",
      "2020-11-27 12:11:00.065741: I tensorflow/core/common_runtime/gpu/gpu_device.cc:1263]      0 1 \n",
      "2020-11-27 12:11:00.065750: I tensorflow/core/common_runtime/gpu/gpu_device.cc:1276] 0:   N Y \n",
      "2020-11-27 12:11:00.065799: I tensorflow/core/common_runtime/gpu/gpu_device.cc:1276] 1:   Y N \n",
      "2020-11-27 12:11:00.069284: I tensorflow/core/common_runtime/gpu/gpu_device.cc:1402] Created TensorFlow device (/job:localhost/replica:0/task:0/device:GPU:0 with 19208 MB memory) -> physical GPU (device: 0, name: TITAN RTX, pci bus id: 0000:65:00.0, compute capability: 7.5)\n",
      "2020-11-27 12:11:00.070874: I tensorflow/core/common_runtime/gpu/gpu_device.cc:1402] Created TensorFlow device (/job:localhost/replica:0/task:0/device:GPU:1 with 22466 MB memory) -> physical GPU (device: 1, name: TITAN RTX, pci bus id: 0000:b3:00.0, compute capability: 7.5)\n",
      "using cached model\n",
      "using cached model\n",
      "using cached model\n",
      "251\n",
      "to_tokens: ['▁너', '▁없이', '▁앉은', '▁건', '반', '▁위', '▁내', '겐', '▁익숙한', '▁연습', '장', '▁하나가', '▁그', '▁곳에', '▁있던', '▁널', '▁위한', '▁노래', '▁이젠', '▁주인', '▁없는', '▁외', '로운', '▁노래', '▁너', '도', '▁지금', '▁나와', '▁같', '구나', '▁뜻이', '▁없는', '▁단', '어와', '▁같아', '▁밥을', '▁먹어도', '▁배부', '르지', '▁않아', '▁답답한', '▁게', '▁가시', '질', '▁않아', '▁널', '▁위해', '▁만들', '었던', '▁노래가', '▁길', '가에', '▁덩', '그러', '니', '▁놓', '이면', '▁']\n",
      "휴식 취해 앉은 건반 위 내겐 익숙한 연습장 하나가 그 곳에 있던 널 위한 노래 이젠 주인 없는 외로운 노래 너도 지금 나와 같구나 뜻이 없는 단어와 같아 밥을 먹어도 배부르지 않아 답답한 게 가시질 않아 널 위해 만들었던 노래가 길가에 덩그러니 놓이면\n",
      "\n",
      "\n",
      "251\n",
      "to_tokens: ['▁너', '▁없이', '에도', '▁나도', '▁몰래', '▁한', '▁걸음', '▁다가가', '요', '▁어느새', '▁계절', '▁보이는', '▁볼', '에', '▁살짝', '치', '▁난', '▁사랑', '하게', '단', '▁말', '▁듣고', '▁싶은', '데', '▁그', '▁말', '▁발', '끝', '에', '▁나도', '▁몰래', '▁한', '▁걸음', '▁다가가', '요', '▁어느새', '▁그대', '▁두', '▁볼', '에', '▁스', '치면', '▁난', '▁사랑', '한', '단', '▁말', '▁듣고', '▁싶은', '데', '▁그', '대의', '▁발', '끝', '에', '▁나도', '▁몰래', '▁한', '▁걸음', '▁다가가', '요', '▁어느새', '▁그대', '▁두', '▁볼', '에', '▁스', '치면', '▁난', '▁사랑', '한', '단', '▁말', '▁듣고', '▁싶은', '데', '▁그', '대의', '▁발', '끝', '에', '▁나도', '▁몰래', '▁한', '▁걸음', '▁다가가', '요', '▁어느새', '▁그대', '▁두', '▁볼', '에', '▁스', '치면', '▁난', '▁사랑', '한', '단', '▁말', '▁듣고', '▁싶은', '데', '▁그', '대의', '▁발', '끝', '에', '▁나도', '▁몰래', '▁그', '대를', '▁좋아', '▁사랑', '하고', '▁싶어요', '▁한', '▁한번', '쯤', '은', '▁내', '▁생각이', '▁난', '다면', '▁달려', '가', '▁줄', '래요', '▁한', '▁어쩌면', '▁그대', '에게', '▁난', '▁싶어', '▁정말', '라면', '▁다', '▁담아', '냈', '을', '▁내', '▁마음을', '▁꼭', '▁듣고', '▁싶', '▁지금', '▁매우', '나도', '해지', '죠', '▁사랑', '대의', '▁발', '끝', '에', '▁나', '▁맘', '▁따라서', '▁서서히', '▁녹아', '▁다가가', '요', '▁어느새', '▁그대', '▁두', '▁볼', '에', '▁스', '치면', '▁난', '▁사랑', '한', '단', '▁말', '▁듣고', '▁싶은', '데', '▁그', '대의', '▁발', '끝', '에', '▁나도', '▁몰래', '▁한', '▁걸음', '▁다가가', '요', '▁어느새', '▁그대', '▁두', '▁볼', '에', '▁스', '치면', '▁난', '▁사랑', '한', '단', '▁말', '▁듣고', '▁싶은', '데', '▁그', '대의', '▁발', '끝', '에', '▁나', '▁정말', '▁그', '대를', '▁사랑해', '▁사랑', '하고', '▁싶어요', '▁꼭', '▁한번', '쯤', '은', '▁내', '▁생각이', '▁난', '다면', '▁달려', '가', '▁줄', '래요', '▁난', '▁어쩌면', '▁그대', '에게', '▁가고', '▁싶어', '▁그대', '라면', '▁다', '▁담아', '냈', '던', '▁내', '▁마음을', '▁꼭', '▁듣고', '▁싶어', '▁아니', '▁매우', '▁궁금', '해지', '지만', '▁그', '대의', '▁발']\n",
      "휴식 시간에는 나도 몰래 한 걸음 다가가요 어느새 그대 두 볼에 스치면 난 사랑한단 말 듣고 싶은데 그대의 발끝에 나도 몰래 한 걸음 다가가요 어느새 그대 두 볼에 스치면 난 사랑한단 말 듣고 싶은데 그대의 발끝에 나도 몰래 한 걸음 다가가요 어느새 그대 두 볼에 스치면 난 사랑한단 말 듣고 싶은데 그대의 발끝에 나도 몰래 한 걸음 다가가요 어느새 그대 두 볼에 스치면 난 사랑한단 말 듣고 싶은데 그대의 발끝에 나 정말 그대를 사랑해 사랑하고 싶어요 꼭 한번쯤은 내  생각이 난다면 달려가 줄래요 난 어쩌면 그대에게 가고 싶어 그대라면 다 담아냈던 내 마음을 꼭 듣고 싶어 아니 매우 궁금해지지만 그대의 발끝에 내 마음도 따라서 서서히 내게 다가가요 어느새 그대 두 볼에 스치면 난 사랑한단 말 듣고 싶은데 그대의 발끝에 나도 몰래 한 걸음 다가가요 어느새 그대 두 볼에 스치면 난 사랑한단 말 듣고 싶은데 그대의 발끝에 나 정말 그대를 사랑해 사랑하고 싶어요 꼭 한번쯤은 내 생각이 난다면 달려가 줄래요 난 어쩌면 그대에게 가고 싶어 그대라면 다 담아냈던 내 마음을 꼭 듣고 싶어 아니 매우 궁금해지지만 그대의 발\n"
     ]
    },
    {
     "name": "stdout",
     "output_type": "stream",
     "text": [
      "251\n",
      "to_tokens: ['▁너', '▁없이', '▁흘러', '가는', '▁시간', '▁속에', '▁묻어', '둔', '▁우리의', '▁처음', '을', '▁기억하고', '▁있', '니', '▁추', '웠던', '▁겨울', '▁속을', '▁걷', '던', '▁내', '▁손을', '▁잡아', '준', '▁아주', '▁작은', '▁네', '▁손', '은', '▁그때', '도', '▁지금도', '▁날', '▁위해', '▁따뜻', '했던', '▁봄', '처럼', '▁날', '▁녹여', '줘', '▁너', '의', '▁모든', '▁걸', '▁나에게', '▁다', '▁줘', '도', '▁미안', '해', '하며', '▁자신', '마저', '▁주는', '▁그대', '에게', '▁내가', '▁준', '▁건', '▁S', 'ti', 'll', '▁no', 'th', 'ing', '▁no', 'th', 'ing', '▁no', 'th', 'ing', '▁아직도', '▁So', '▁I', 'm', '▁so', '▁s', 'or', 'ry', '▁So', '▁I', 'm', '▁s', 'or', 'ry', '▁초록', '빛', '▁은하', '수', '들이', '▁춤을', '▁추', '듯', '▁파도', '▁치', '잖아', '▁빛나는', '▁그', '▁물결', '들이', '▁영원', '할', '▁거라', '▁믿고', '▁있는', '▁나', '▁그저', '▁꿈', '이라도', '▁상관', '없어', '▁이', '▁바다에', '▁빠져', '도', '▁숨', '▁쉴', '▁수', '▁있어', '▁괜찮', '아', '▁겁', '▁없이', '▁끝', '없이', '▁헤엄', '쳐', '갈', '게', '▁네', '▁손이', '▁그때', '도', '▁지금도', '▁날', '▁위해', '▁따', '듯', '하게', '▁아직도', '▁날', '▁잡아', '줘', '▁너', '의', '▁모든', '▁걸', '▁나에게', '▁다', '▁줘', '도', '▁미안', '해', '하며', '▁자신', '마저', '▁주는', '▁그대', '에게', '▁내가', '▁준', '▁건', '▁S', 'ti', 'll', '▁no', 'th', 'ing', '▁no', 'th', 'ing', '▁no', 'th', 'ing', '▁아직도', '▁So', '▁I', 'm', '▁so', '▁s', 'or', 'ry', '▁So', '▁I', 'm', '▁s', 'or', 'ry', '▁겨울에', '▁내린', '▁수많은', '▁눈', '들이', '▁날', '▁보고', '▁있어', '▁차갑', '게', '▁그', '▁눈', '들이', '▁움', '츠', '리고', '▁있는', '▁날', '▁안', '아', '준', '▁네가', '▁있어', '▁줘', '서', '▁너무', '▁다행', '이야', '▁나에게', '▁있어서', '▁넌', '▁나의', '▁봄', '이야', '▁정말', '▁고마', '워', '요', '▁이제', '▁내', '▁모든', '▁걸', '▁너', '에게', '▁다', '▁줄', '게', '▁더는', '▁미안', '해', '하지', '▁말고', '▁내가', '▁받은', '▁것보다', '▁더', '▁받아', '줘', '▁너무', '▁미안', '해', '▁미안', '해', '▁그리고']\n",
      "휴식 없이 흘러버린 시간 속에 묻어둔 우리의 처음을 기억하고 있니 추웠던 겨울 속을 걷던 내 손을 잡아준 아주 작은 네 손은 그때도 지금도 날 위해 따뜻했던 봄처럼 날 녹여줘 너의 모든 걸 나에게 다 줘도 미안해하며 자신마저 주는 그대에게 내가 준 건 Still nothing nothing nothing 아직도 So Im so sorry So Im sorry 초록빛 은하수들이 춤을 추듯 파도 치잖아 빛나는 그 물결들이 영원할 거라 믿고 있는 나 그저 꿈이라도 상관없어 이 바다에 빠져도 숨 쉴 수 있어 괜찮아 겁 없이 끝없이 헤엄쳐갈게 네 손이 그때도 지금도 날 위해 따듯하게 아직도 날 잡아줘 너의 모든 걸 나에게 다 줘도 미안해하며 자신마저 주는 그대에게 내가 준 건 Still nothing nothing nothing 아직도 So Im so sorry So Im sorry 겨울에 내린 수많은 눈들이 날 보고 있어 차갑게 그 눈들이 움츠리고 있는 날 안아준 네가 있어 줘서 너무 다행이야 나에게 있어서 넌 나의 봄이야 정말 고마워요 이제 내 모든 걸 너에게 다 줄게 더는 미안해하지 말고 내가 받은 것보다 더 받아줘 너무 미안해 미안해 그리고\n",
      "251\n",
      "to_tokens: ['▁너', '▁없이', '▁흘러', '가는', '▁시간', '들은', '▁날', '▁위해', '▁한다', '▁그날', '▁너', '를', '▁놓', '▁창', '밖', '엔', '▁흐린', '▁새벽', '▁봄', '비', '▁소리', '▁가득', '해', '▁내', '▁두', '▁손', '▁끝에', '▁네가', '▁내려', '▁촉촉', '히', '▁그', '새', '▁내', '▁발', '▁끝에', '▁물', '들어', '▁살', '며', '시', '▁b', 'ab', 'y', '▁잔뜩', '▁웅', '크', '린', '▁몸이', '▁나를', '▁부르는', '▁소리에', '▁네가', '▁가득', '▁번', '져', '▁선명하게', '▁떠올', '라', '▁메', '말', '랐던', '▁내', '▁맘', '▁속에', '▁부드', '런', '▁단', '비', '처럼', '▁날', '▁비', '추는', '▁햇살', '처럼', '▁너', '는', '▁나를', '▁녹여', '가', '▁b', 'ab', 'y', '▁차갑', '던', '▁바람', '▁전부', '▁다', '▁걷', '히고', '▁따', '스', '했던', '▁그', '▁봄', '비', '처럼', '▁다', '가와', '▁잠든', '▁나를', '▁깨', '워', '줘', '▁이제', '▁너', '로', '▁채워', '줘', '▁잔잔', '했던', '▁나의', '▁맘', '을', '▁힘', '껏', '▁두드', '리는', '▁너', '▁비를', '▁타고', '▁흐', '른', '▁네', '▁향', '기가', '▁아', '른', '해', '▁텅', '▁빈', '▁내', '▁안에', '▁멈춰', '버린', '▁계절', '에', '▁가득', '했던', '▁너', '의', '▁온', '기를', '▁기억', '해', '▁b', 'ab', 'y', '▁감당할', '▁수도', '▁없이', '▁네가', '▁쌓여', '간', '▁그', '▁순간', '▁모든', '▁시간', '▁속에', '▁찬', '란', '하게', '▁떠올', '라', '▁메', '말', '랐던', '▁내', '▁맘', '▁속에', '▁부드', '런', '▁단', '비', '처럼', '▁날', '▁비', '추는', '▁햇살', '처럼', '▁너', '는', '▁나를', '▁녹여', '가', '▁b', 'ab', 'y', '▁차갑', '던', '▁바람', '▁전부', '▁다', '▁걷', '히고', '▁따', '스', '했던', '▁그', '▁봄', '비', '처럼', '▁다', '가와', '▁조금', '▁어', '렸', '었던', '▁서', '툴', '렀', '던', '▁어', '제의', '▁나는', '▁비에', '▁젖', '어', '▁하나', '▁둘', '씩', '▁잊혀', '져', '▁가고', '▁틈새', '▁없던', '▁맘', '은', '▁봄', '▁눈', '▁녹', '듯이', '▁다', '▁사라져', '▁지금처럼', '만', '▁오늘', '처럼', '만', '▁영원히', '▁함께할', '래', '▁손', '▁등', '▁위로', '▁떨어진', '▁투명한', '▁저', '▁물방울', '이', '▁내', '▁마음을', '▁적']\n",
      "휴식 없이 흘러온 시간들은 날 힘들게 해 그날 너를 부르는 창밖엔 벌써 이른 봄비 소리 가득해 내 두 손 끝에 네가 내려 촉촉히 그새 내 발 끝에 물들어 살며시 baby 잔뜩 웅크린 몸이 나를 부르는 소리에 네가 가득 번져 선명하게 떠올라 메말랐던 내 맘 속에 부드런 단비처럼 날 비추는 햇살처럼 너는 나를 녹여가 baby 차갑던 바람 전부 다 걷히고 따스했던 그 봄비처럼 다가와 잠든 나를 깨워줘 이제 너로 채워줘 잔잔했던 나의 맘을 힘껏 두드리는 너 비를 타고 흐른 네 향기가 아른해 텅 빈 내 안에 멈춰버린 계절에 가득했던 너의 온기를 기억해 baby 감당할 수도 없이 네가 쌓여간 그 순간 모든 시간 속에 찬란하게 떠올라 메말랐던 내 맘 속에 부드런 단비처럼 날 비추는 햇살처럼 너는 나를 녹여가 baby 차갑던 바람 전부 다 걷히고 따스했던 그 봄비처럼 다가와 조금 어렸었던 서툴렀던 어제의 나는 비에 젖어 하나 둘씩 잊혀져 가고 틈새 없던 맘은 봄 눈 녹듯이 다 사라져 지금처럼만 오늘처럼만 영원히 함께할래 손 등 위로 떨어진 투명한 저 물방울이 내 마음을 적\n",
      "251\n",
      "to_tokens: ['▁너', '▁없이', '▁흘러', '가는', '▁시간', '▁속에', '▁묻어', '둔', '▁우리의', '▁처음', '을', '▁기억', '해', '줘', '요', '▁너', 'ere', '▁I', '▁st', 'm', '▁']\n",
      "휴식 없이 흘러버린 시간 속에 묻어둔 우리의 잠깐을 기억해줘요 here I’m\n",
      "\n",
      "\n",
      "good\n"
     ]
    }
   ],
   "source": [
    "!python3 generator.py --load_path='./checkpoint/2011-2019_발라드90000.tar' --tmp_sent='휴식' --loops=5 --temperature=1.0"
   ]
  },
  {
   "cell_type": "code",
   "execution_count": 24,
   "metadata": {},
   "outputs": [
    {
     "name": "stdout",
     "output_type": "stream",
     "text": [
      "time : 803.1017236709595\n"
     ]
    }
   ],
   "source": [
    "print(\"time :\", time.time() - start)  # 현재시각 - 시작시간 = 실행 시간"
   ]
  },
  {
   "cell_type": "code",
   "execution_count": 29,
   "metadata": {
    "scrolled": true
   },
   "outputs": [
    {
     "name": "stdout",
     "output_type": "stream",
     "text": [
      "/home/minji/.local/lib/python3.6/site-packages/mxnet/optimizer/optimizer.py:167: UserWarning: WARNING: New optimizer gluonnlp.optimizer.lamb.LAMB is overriding existing optimizer mxnet.optimizer.optimizer.LAMB\n",
      "  Optimizer.opt_registry[name].__name__))\n",
      "2020-11-27 13:58:45.688801: I tensorflow/stream_executor/platform/default/dso_loader.cc:48] Successfully opened dynamic library libcudart.so.10.1\n",
      "To use data.metrics please install scikit-learn. See https://scikit-learn.org/stable/index.html\n",
      "2020-11-27 13:58:47.261477: I tensorflow/stream_executor/platform/default/dso_loader.cc:48] Successfully opened dynamic library libcuda.so.1\n",
      "2020-11-27 13:58:47.279058: I tensorflow/core/common_runtime/gpu/gpu_device.cc:1716] Found device 0 with properties: \n",
      "pciBusID: 0000:65:00.0 name: TITAN RTX computeCapability: 7.5\n",
      "coreClock: 1.77GHz coreCount: 72 deviceMemorySize: 23.65GiB deviceMemoryBandwidth: 625.94GiB/s\n",
      "2020-11-27 13:58:47.281063: I tensorflow/core/common_runtime/gpu/gpu_device.cc:1716] Found device 1 with properties: \n",
      "pciBusID: 0000:b3:00.0 name: TITAN RTX computeCapability: 7.5\n",
      "coreClock: 1.77GHz coreCount: 72 deviceMemorySize: 23.65GiB deviceMemoryBandwidth: 625.94GiB/s\n",
      "2020-11-27 13:58:47.281147: I tensorflow/stream_executor/platform/default/dso_loader.cc:48] Successfully opened dynamic library libcudart.so.10.1\n",
      "2020-11-27 13:58:47.283466: I tensorflow/stream_executor/platform/default/dso_loader.cc:48] Successfully opened dynamic library libcublas.so.10\n",
      "2020-11-27 13:58:47.285439: I tensorflow/stream_executor/platform/default/dso_loader.cc:48] Successfully opened dynamic library libcufft.so.10\n",
      "2020-11-27 13:58:47.285846: I tensorflow/stream_executor/platform/default/dso_loader.cc:48] Successfully opened dynamic library libcurand.so.10\n",
      "2020-11-27 13:58:47.288283: I tensorflow/stream_executor/platform/default/dso_loader.cc:48] Successfully opened dynamic library libcusolver.so.10\n",
      "2020-11-27 13:58:47.289570: I tensorflow/stream_executor/platform/default/dso_loader.cc:48] Successfully opened dynamic library libcusparse.so.10\n",
      "2020-11-27 13:58:47.294588: I tensorflow/stream_executor/platform/default/dso_loader.cc:48] Successfully opened dynamic library libcudnn.so.7\n",
      "2020-11-27 13:58:47.302475: I tensorflow/core/common_runtime/gpu/gpu_device.cc:1858] Adding visible gpu devices: 0, 1\n",
      "2020-11-27 13:58:47.302887: I tensorflow/core/platform/cpu_feature_guard.cc:142] This TensorFlow binary is optimized with oneAPI Deep Neural Network Library (oneDNN)to use the following CPU instructions in performance-critical operations:  AVX2 AVX512F FMA\n",
      "To enable them in other operations, rebuild TensorFlow with the appropriate compiler flags.\n",
      "2020-11-27 13:58:47.327590: I tensorflow/core/platform/profile_utils/cpu_utils.cc:104] CPU Frequency: 3499910000 Hz\n",
      "2020-11-27 13:58:47.328389: I tensorflow/compiler/xla/service/service.cc:168] XLA service 0x8ed8980 initialized for platform Host (this does not guarantee that XLA will be used). Devices:\n",
      "2020-11-27 13:58:47.328422: I tensorflow/compiler/xla/service/service.cc:176]   StreamExecutor device (0): Host, Default Version\n",
      "2020-11-27 13:58:47.730989: I tensorflow/compiler/xla/service/service.cc:168] XLA service 0x8f444d0 initialized for platform CUDA (this does not guarantee that XLA will be used). Devices:\n",
      "2020-11-27 13:58:47.731029: I tensorflow/compiler/xla/service/service.cc:176]   StreamExecutor device (0): TITAN RTX, Compute Capability 7.5\n",
      "2020-11-27 13:58:47.731039: I tensorflow/compiler/xla/service/service.cc:176]   StreamExecutor device (1): TITAN RTX, Compute Capability 7.5\n",
      "2020-11-27 13:58:47.732331: I tensorflow/core/common_runtime/gpu/gpu_device.cc:1716] Found device 0 with properties: \n",
      "pciBusID: 0000:65:00.0 name: TITAN RTX computeCapability: 7.5\n",
      "coreClock: 1.77GHz coreCount: 72 deviceMemorySize: 23.65GiB deviceMemoryBandwidth: 625.94GiB/s\n",
      "2020-11-27 13:58:47.733393: I tensorflow/core/common_runtime/gpu/gpu_device.cc:1716] Found device 1 with properties: \n",
      "pciBusID: 0000:b3:00.0 name: TITAN RTX computeCapability: 7.5\n",
      "coreClock: 1.77GHz coreCount: 72 deviceMemorySize: 23.65GiB deviceMemoryBandwidth: 625.94GiB/s\n",
      "2020-11-27 13:58:47.733491: I tensorflow/stream_executor/platform/default/dso_loader.cc:48] Successfully opened dynamic library libcudart.so.10.1\n",
      "2020-11-27 13:58:47.733536: I tensorflow/stream_executor/platform/default/dso_loader.cc:48] Successfully opened dynamic library libcublas.so.10\n",
      "2020-11-27 13:58:47.733559: I tensorflow/stream_executor/platform/default/dso_loader.cc:48] Successfully opened dynamic library libcufft.so.10\n",
      "2020-11-27 13:58:47.733579: I tensorflow/stream_executor/platform/default/dso_loader.cc:48] Successfully opened dynamic library libcurand.so.10\n",
      "2020-11-27 13:58:47.733599: I tensorflow/stream_executor/platform/default/dso_loader.cc:48] Successfully opened dynamic library libcusolver.so.10\n",
      "2020-11-27 13:58:47.733619: I tensorflow/stream_executor/platform/default/dso_loader.cc:48] Successfully opened dynamic library libcusparse.so.10\n",
      "2020-11-27 13:58:47.733639: I tensorflow/stream_executor/platform/default/dso_loader.cc:48] Successfully opened dynamic library libcudnn.so.7\n",
      "2020-11-27 13:58:47.737424: I tensorflow/core/common_runtime/gpu/gpu_device.cc:1858] Adding visible gpu devices: 0, 1\n",
      "2020-11-27 13:58:47.737522: I tensorflow/stream_executor/platform/default/dso_loader.cc:48] Successfully opened dynamic library libcudart.so.10.1\n",
      "2020-11-27 13:58:49.427768: I tensorflow/core/common_runtime/gpu/gpu_device.cc:1257] Device interconnect StreamExecutor with strength 1 edge matrix:\n",
      "2020-11-27 13:58:49.427833: I tensorflow/core/common_runtime/gpu/gpu_device.cc:1263]      0 1 \n",
      "2020-11-27 13:58:49.427846: I tensorflow/core/common_runtime/gpu/gpu_device.cc:1276] 0:   N Y \n",
      "2020-11-27 13:58:49.427854: I tensorflow/core/common_runtime/gpu/gpu_device.cc:1276] 1:   Y N \n",
      "2020-11-27 13:58:49.431202: I tensorflow/core/common_runtime/gpu/gpu_device.cc:1402] Created TensorFlow device (/job:localhost/replica:0/task:0/device:GPU:0 with 19208 MB memory) -> physical GPU (device: 0, name: TITAN RTX, pci bus id: 0000:65:00.0, compute capability: 7.5)\n",
      "2020-11-27 13:58:49.432781: I tensorflow/core/common_runtime/gpu/gpu_device.cc:1402] Created TensorFlow device (/job:localhost/replica:0/task:0/device:GPU:1 with 22466 MB memory) -> physical GPU (device: 1, name: TITAN RTX, pci bus id: 0000:b3:00.0, compute capability: 7.5)\n",
      "using cached model\n",
      "using cached model\n",
      "using cached model\n",
      "251\n",
      "to_tokens: ['▁', '할', '▁']\n",
      "사랑하늘\n",
      "\n",
      "\n",
      "251\n",
      "to_tokens: ['▁', '할', '께', '▁']\n",
      "사랑할수\n",
      "\n",
      "\n",
      "251\n",
      "to_tokens: ['▁', '할', '▁', '속', '▁']\n",
      "사랑니\n",
      "\n",
      "가슴속에\n",
      "\n",
      "\n",
      "251\n",
      "to_tokens: ['▁', '할', '▁']\n",
      "사랑니가\n",
      "\n",
      "\n",
      "251\n",
      "to_tokens: ['▁', '할', '▁']\n",
      "사랑니가\n",
      "\n",
      "\n",
      "good\n"
     ]
    }
   ],
   "source": [
    "!python3 generator.py --load_path='./checkpoint/1990-2000_발라드120000.tar' --tmp_sent='사랑' --loops=5"
   ]
  },
  {
   "cell_type": "code",
   "execution_count": 30,
   "metadata": {
    "scrolled": true
   },
   "outputs": [
    {
     "name": "stdout",
     "output_type": "stream",
     "text": [
      "/home/minji/.local/lib/python3.6/site-packages/mxnet/optimizer/optimizer.py:167: UserWarning: WARNING: New optimizer gluonnlp.optimizer.lamb.LAMB is overriding existing optimizer mxnet.optimizer.optimizer.LAMB\n",
      "  Optimizer.opt_registry[name].__name__))\n",
      "2020-11-27 14:01:43.858118: I tensorflow/stream_executor/platform/default/dso_loader.cc:48] Successfully opened dynamic library libcudart.so.10.1\n",
      "To use data.metrics please install scikit-learn. See https://scikit-learn.org/stable/index.html\n",
      "2020-11-27 14:01:45.429577: I tensorflow/stream_executor/platform/default/dso_loader.cc:48] Successfully opened dynamic library libcuda.so.1\n",
      "2020-11-27 14:01:45.447154: I tensorflow/core/common_runtime/gpu/gpu_device.cc:1716] Found device 0 with properties: \n",
      "pciBusID: 0000:65:00.0 name: TITAN RTX computeCapability: 7.5\n",
      "coreClock: 1.77GHz coreCount: 72 deviceMemorySize: 23.65GiB deviceMemoryBandwidth: 625.94GiB/s\n",
      "2020-11-27 14:01:45.449166: I tensorflow/core/common_runtime/gpu/gpu_device.cc:1716] Found device 1 with properties: \n",
      "pciBusID: 0000:b3:00.0 name: TITAN RTX computeCapability: 7.5\n",
      "coreClock: 1.77GHz coreCount: 72 deviceMemorySize: 23.65GiB deviceMemoryBandwidth: 625.94GiB/s\n",
      "2020-11-27 14:01:45.449242: I tensorflow/stream_executor/platform/default/dso_loader.cc:48] Successfully opened dynamic library libcudart.so.10.1\n",
      "2020-11-27 14:01:45.451573: I tensorflow/stream_executor/platform/default/dso_loader.cc:48] Successfully opened dynamic library libcublas.so.10\n",
      "2020-11-27 14:01:45.453567: I tensorflow/stream_executor/platform/default/dso_loader.cc:48] Successfully opened dynamic library libcufft.so.10\n",
      "2020-11-27 14:01:45.453964: I tensorflow/stream_executor/platform/default/dso_loader.cc:48] Successfully opened dynamic library libcurand.so.10\n",
      "2020-11-27 14:01:45.456395: I tensorflow/stream_executor/platform/default/dso_loader.cc:48] Successfully opened dynamic library libcusolver.so.10\n",
      "2020-11-27 14:01:45.457678: I tensorflow/stream_executor/platform/default/dso_loader.cc:48] Successfully opened dynamic library libcusparse.so.10\n",
      "2020-11-27 14:01:45.462696: I tensorflow/stream_executor/platform/default/dso_loader.cc:48] Successfully opened dynamic library libcudnn.so.7\n",
      "2020-11-27 14:01:45.470529: I tensorflow/core/common_runtime/gpu/gpu_device.cc:1858] Adding visible gpu devices: 0, 1\n",
      "2020-11-27 14:01:45.470948: I tensorflow/core/platform/cpu_feature_guard.cc:142] This TensorFlow binary is optimized with oneAPI Deep Neural Network Library (oneDNN)to use the following CPU instructions in performance-critical operations:  AVX2 AVX512F FMA\n",
      "To enable them in other operations, rebuild TensorFlow with the appropriate compiler flags.\n",
      "2020-11-27 14:01:45.495591: I tensorflow/core/platform/profile_utils/cpu_utils.cc:104] CPU Frequency: 3499910000 Hz\n",
      "2020-11-27 14:01:45.496404: I tensorflow/compiler/xla/service/service.cc:168] XLA service 0x7463750 initialized for platform Host (this does not guarantee that XLA will be used). Devices:\n",
      "2020-11-27 14:01:45.496437: I tensorflow/compiler/xla/service/service.cc:176]   StreamExecutor device (0): Host, Default Version\n",
      "2020-11-27 14:01:45.890564: I tensorflow/compiler/xla/service/service.cc:168] XLA service 0x74cf2a0 initialized for platform CUDA (this does not guarantee that XLA will be used). Devices:\n",
      "2020-11-27 14:01:45.890604: I tensorflow/compiler/xla/service/service.cc:176]   StreamExecutor device (0): TITAN RTX, Compute Capability 7.5\n",
      "2020-11-27 14:01:45.890613: I tensorflow/compiler/xla/service/service.cc:176]   StreamExecutor device (1): TITAN RTX, Compute Capability 7.5\n",
      "2020-11-27 14:01:45.891918: I tensorflow/core/common_runtime/gpu/gpu_device.cc:1716] Found device 0 with properties: \n",
      "pciBusID: 0000:65:00.0 name: TITAN RTX computeCapability: 7.5\n",
      "coreClock: 1.77GHz coreCount: 72 deviceMemorySize: 23.65GiB deviceMemoryBandwidth: 625.94GiB/s\n",
      "2020-11-27 14:01:45.892982: I tensorflow/core/common_runtime/gpu/gpu_device.cc:1716] Found device 1 with properties: \n",
      "pciBusID: 0000:b3:00.0 name: TITAN RTX computeCapability: 7.5\n",
      "coreClock: 1.77GHz coreCount: 72 deviceMemorySize: 23.65GiB deviceMemoryBandwidth: 625.94GiB/s\n",
      "2020-11-27 14:01:45.893064: I tensorflow/stream_executor/platform/default/dso_loader.cc:48] Successfully opened dynamic library libcudart.so.10.1\n",
      "2020-11-27 14:01:45.893098: I tensorflow/stream_executor/platform/default/dso_loader.cc:48] Successfully opened dynamic library libcublas.so.10\n",
      "2020-11-27 14:01:45.893116: I tensorflow/stream_executor/platform/default/dso_loader.cc:48] Successfully opened dynamic library libcufft.so.10\n",
      "2020-11-27 14:01:45.893132: I tensorflow/stream_executor/platform/default/dso_loader.cc:48] Successfully opened dynamic library libcurand.so.10\n",
      "2020-11-27 14:01:45.893148: I tensorflow/stream_executor/platform/default/dso_loader.cc:48] Successfully opened dynamic library libcusolver.so.10\n",
      "2020-11-27 14:01:45.893163: I tensorflow/stream_executor/platform/default/dso_loader.cc:48] Successfully opened dynamic library libcusparse.so.10\n",
      "2020-11-27 14:01:45.893181: I tensorflow/stream_executor/platform/default/dso_loader.cc:48] Successfully opened dynamic library libcudnn.so.7\n",
      "2020-11-27 14:01:45.897034: I tensorflow/core/common_runtime/gpu/gpu_device.cc:1858] Adding visible gpu devices: 0, 1\n",
      "2020-11-27 14:01:45.897127: I tensorflow/stream_executor/platform/default/dso_loader.cc:48] Successfully opened dynamic library libcudart.so.10.1\n",
      "2020-11-27 14:01:47.592025: I tensorflow/core/common_runtime/gpu/gpu_device.cc:1257] Device interconnect StreamExecutor with strength 1 edge matrix:\n",
      "2020-11-27 14:01:47.592084: I tensorflow/core/common_runtime/gpu/gpu_device.cc:1263]      0 1 \n",
      "2020-11-27 14:01:47.592097: I tensorflow/core/common_runtime/gpu/gpu_device.cc:1276] 0:   N Y \n",
      "2020-11-27 14:01:47.592104: I tensorflow/core/common_runtime/gpu/gpu_device.cc:1276] 1:   Y N \n",
      "2020-11-27 14:01:47.595470: I tensorflow/core/common_runtime/gpu/gpu_device.cc:1402] Created TensorFlow device (/job:localhost/replica:0/task:0/device:GPU:0 with 19208 MB memory) -> physical GPU (device: 0, name: TITAN RTX, pci bus id: 0000:65:00.0, compute capability: 7.5)\n",
      "2020-11-27 14:01:47.597048: I tensorflow/core/common_runtime/gpu/gpu_device.cc:1402] Created TensorFlow device (/job:localhost/replica:0/task:0/device:GPU:1 with 22466 MB memory) -> physical GPU (device: 1, name: TITAN RTX, pci bus id: 0000:b3:00.0, compute capability: 7.5)\n",
      "using cached model\n",
      "using cached model\n",
      "using cached model\n",
      "251\n",
      "to_tokens: ['▁', '우', '▁']\n",
      "휴식이\n",
      "\n",
      "\n",
      "251\n",
      "to_tokens: ['▁', '기', '▁']\n",
      "휴식할\n",
      "\n",
      "\n",
      "251\n",
      "to_tokens: ['▁', '기', '▁']\n",
      "휴식할\n",
      "\n",
      "\n",
      "251\n",
      "to_tokens: ['▁', '기', '▁']\n",
      "휴식할\n",
      "\n",
      "\n",
      "251\n",
      "to_tokens: ['▁', '기', '▁']\n",
      "휴식할\n",
      "\n",
      "\n",
      "good\n"
     ]
    }
   ],
   "source": [
    "!python3 generator.py --load_path='./checkpoint/1990-2000_발라드120000.tar' --tmp_sent='휴식' --loops=5"
   ]
  },
  {
   "cell_type": "code",
   "execution_count": 31,
   "metadata": {
    "scrolled": true
   },
   "outputs": [
    {
     "name": "stdout",
     "output_type": "stream",
     "text": [
      "/home/minji/.local/lib/python3.6/site-packages/mxnet/optimizer/optimizer.py:167: UserWarning: WARNING: New optimizer gluonnlp.optimizer.lamb.LAMB is overriding existing optimizer mxnet.optimizer.optimizer.LAMB\n",
      "  Optimizer.opt_registry[name].__name__))\n",
      "2020-11-27 14:04:40.302376: I tensorflow/stream_executor/platform/default/dso_loader.cc:48] Successfully opened dynamic library libcudart.so.10.1\n",
      "To use data.metrics please install scikit-learn. See https://scikit-learn.org/stable/index.html\n",
      "2020-11-27 14:04:41.874777: I tensorflow/stream_executor/platform/default/dso_loader.cc:48] Successfully opened dynamic library libcuda.so.1\n",
      "2020-11-27 14:04:41.891659: I tensorflow/core/common_runtime/gpu/gpu_device.cc:1716] Found device 0 with properties: \n",
      "pciBusID: 0000:65:00.0 name: TITAN RTX computeCapability: 7.5\n",
      "coreClock: 1.77GHz coreCount: 72 deviceMemorySize: 23.65GiB deviceMemoryBandwidth: 625.94GiB/s\n",
      "2020-11-27 14:04:41.893650: I tensorflow/core/common_runtime/gpu/gpu_device.cc:1716] Found device 1 with properties: \n",
      "pciBusID: 0000:b3:00.0 name: TITAN RTX computeCapability: 7.5\n",
      "coreClock: 1.77GHz coreCount: 72 deviceMemorySize: 23.65GiB deviceMemoryBandwidth: 625.94GiB/s\n",
      "2020-11-27 14:04:41.893730: I tensorflow/stream_executor/platform/default/dso_loader.cc:48] Successfully opened dynamic library libcudart.so.10.1\n",
      "2020-11-27 14:04:41.896072: I tensorflow/stream_executor/platform/default/dso_loader.cc:48] Successfully opened dynamic library libcublas.so.10\n",
      "2020-11-27 14:04:41.898084: I tensorflow/stream_executor/platform/default/dso_loader.cc:48] Successfully opened dynamic library libcufft.so.10\n",
      "2020-11-27 14:04:41.898496: I tensorflow/stream_executor/platform/default/dso_loader.cc:48] Successfully opened dynamic library libcurand.so.10\n",
      "2020-11-27 14:04:41.900970: I tensorflow/stream_executor/platform/default/dso_loader.cc:48] Successfully opened dynamic library libcusolver.so.10\n",
      "2020-11-27 14:04:41.902244: I tensorflow/stream_executor/platform/default/dso_loader.cc:48] Successfully opened dynamic library libcusparse.so.10\n",
      "2020-11-27 14:04:41.907249: I tensorflow/stream_executor/platform/default/dso_loader.cc:48] Successfully opened dynamic library libcudnn.so.7\n",
      "2020-11-27 14:04:41.915116: I tensorflow/core/common_runtime/gpu/gpu_device.cc:1858] Adding visible gpu devices: 0, 1\n",
      "2020-11-27 14:04:41.915539: I tensorflow/core/platform/cpu_feature_guard.cc:142] This TensorFlow binary is optimized with oneAPI Deep Neural Network Library (oneDNN)to use the following CPU instructions in performance-critical operations:  AVX2 AVX512F FMA\n",
      "To enable them in other operations, rebuild TensorFlow with the appropriate compiler flags.\n",
      "2020-11-27 14:04:41.943591: I tensorflow/core/platform/profile_utils/cpu_utils.cc:104] CPU Frequency: 3499910000 Hz\n",
      "2020-11-27 14:04:41.944433: I tensorflow/compiler/xla/service/service.cc:168] XLA service 0x87364c0 initialized for platform Host (this does not guarantee that XLA will be used). Devices:\n",
      "2020-11-27 14:04:41.944464: I tensorflow/compiler/xla/service/service.cc:176]   StreamExecutor device (0): Host, Default Version\n",
      "2020-11-27 14:04:42.338561: I tensorflow/compiler/xla/service/service.cc:168] XLA service 0x8683a20 initialized for platform CUDA (this does not guarantee that XLA will be used). Devices:\n",
      "2020-11-27 14:04:42.338602: I tensorflow/compiler/xla/service/service.cc:176]   StreamExecutor device (0): TITAN RTX, Compute Capability 7.5\n",
      "2020-11-27 14:04:42.338613: I tensorflow/compiler/xla/service/service.cc:176]   StreamExecutor device (1): TITAN RTX, Compute Capability 7.5\n",
      "2020-11-27 14:04:42.339871: I tensorflow/core/common_runtime/gpu/gpu_device.cc:1716] Found device 0 with properties: \n",
      "pciBusID: 0000:65:00.0 name: TITAN RTX computeCapability: 7.5\n",
      "coreClock: 1.77GHz coreCount: 72 deviceMemorySize: 23.65GiB deviceMemoryBandwidth: 625.94GiB/s\n",
      "2020-11-27 14:04:42.341042: I tensorflow/core/common_runtime/gpu/gpu_device.cc:1716] Found device 1 with properties: \n",
      "pciBusID: 0000:b3:00.0 name: TITAN RTX computeCapability: 7.5\n",
      "coreClock: 1.77GHz coreCount: 72 deviceMemorySize: 23.65GiB deviceMemoryBandwidth: 625.94GiB/s\n",
      "2020-11-27 14:04:42.341130: I tensorflow/stream_executor/platform/default/dso_loader.cc:48] Successfully opened dynamic library libcudart.so.10.1\n",
      "2020-11-27 14:04:42.341165: I tensorflow/stream_executor/platform/default/dso_loader.cc:48] Successfully opened dynamic library libcublas.so.10\n",
      "2020-11-27 14:04:42.341183: I tensorflow/stream_executor/platform/default/dso_loader.cc:48] Successfully opened dynamic library libcufft.so.10\n",
      "2020-11-27 14:04:42.341199: I tensorflow/stream_executor/platform/default/dso_loader.cc:48] Successfully opened dynamic library libcurand.so.10\n",
      "2020-11-27 14:04:42.341216: I tensorflow/stream_executor/platform/default/dso_loader.cc:48] Successfully opened dynamic library libcusolver.so.10\n",
      "2020-11-27 14:04:42.341231: I tensorflow/stream_executor/platform/default/dso_loader.cc:48] Successfully opened dynamic library libcusparse.so.10\n",
      "2020-11-27 14:04:42.341248: I tensorflow/stream_executor/platform/default/dso_loader.cc:48] Successfully opened dynamic library libcudnn.so.7\n",
      "2020-11-27 14:04:42.345002: I tensorflow/core/common_runtime/gpu/gpu_device.cc:1858] Adding visible gpu devices: 0, 1\n",
      "2020-11-27 14:04:42.345089: I tensorflow/stream_executor/platform/default/dso_loader.cc:48] Successfully opened dynamic library libcudart.so.10.1\n",
      "2020-11-27 14:04:44.028251: I tensorflow/core/common_runtime/gpu/gpu_device.cc:1257] Device interconnect StreamExecutor with strength 1 edge matrix:\n",
      "2020-11-27 14:04:44.028312: I tensorflow/core/common_runtime/gpu/gpu_device.cc:1263]      0 1 \n",
      "2020-11-27 14:04:44.028336: I tensorflow/core/common_runtime/gpu/gpu_device.cc:1276] 0:   N Y \n",
      "2020-11-27 14:04:44.028343: I tensorflow/core/common_runtime/gpu/gpu_device.cc:1276] 1:   Y N \n",
      "2020-11-27 14:04:44.031700: I tensorflow/core/common_runtime/gpu/gpu_device.cc:1402] Created TensorFlow device (/job:localhost/replica:0/task:0/device:GPU:0 with 19208 MB memory) -> physical GPU (device: 0, name: TITAN RTX, pci bus id: 0000:65:00.0, compute capability: 7.5)\n",
      "2020-11-27 14:04:44.033266: I tensorflow/core/common_runtime/gpu/gpu_device.cc:1402] Created TensorFlow device (/job:localhost/replica:0/task:0/device:GPU:1 with 22466 MB memory) -> physical GPU (device: 1, name: TITAN RTX, pci bus id: 0000:b3:00.0, compute capability: 7.5)\n",
      "using cached model\n",
      "using cached model\n",
      "using cached model\n",
      "251\n",
      "to_tokens: ['▁', '했', '▁']\n",
      "사랑했던\n",
      "\n",
      "\n",
      "251\n",
      "to_tokens: ['▁', '했', '▁']\n",
      "사랑했던\n",
      "\n",
      "\n",
      "251\n",
      "to_tokens: ['▁', '했', '▁']\n",
      "사랑했던\n",
      "\n",
      "\n",
      "251\n",
      "to_tokens: ['▁', '했', '▁']\n",
      "사랑했던\n",
      "\n",
      "\n",
      "251\n",
      "to_tokens: ['▁', '▁']\n",
      "사랑하는\n",
      "\n",
      "\n",
      "good\n"
     ]
    }
   ],
   "source": [
    "!python3 generator.py --load_path='./checkpoint/1990-2000_댄스120000.tar' --tmp_sent='사랑' --loops=5"
   ]
  },
  {
   "cell_type": "code",
   "execution_count": 33,
   "metadata": {
    "scrolled": true
   },
   "outputs": [
    {
     "name": "stdout",
     "output_type": "stream",
     "text": [
      "/home/minji/.local/lib/python3.6/site-packages/mxnet/optimizer/optimizer.py:167: UserWarning: WARNING: New optimizer gluonnlp.optimizer.lamb.LAMB is overriding existing optimizer mxnet.optimizer.optimizer.LAMB\n",
      "  Optimizer.opt_registry[name].__name__))\n",
      "2020-11-27 14:15:18.483285: I tensorflow/stream_executor/platform/default/dso_loader.cc:48] Successfully opened dynamic library libcudart.so.10.1\n",
      "To use data.metrics please install scikit-learn. See https://scikit-learn.org/stable/index.html\n",
      "2020-11-27 14:15:20.056349: I tensorflow/stream_executor/platform/default/dso_loader.cc:48] Successfully opened dynamic library libcuda.so.1\n",
      "2020-11-27 14:15:20.074042: I tensorflow/core/common_runtime/gpu/gpu_device.cc:1716] Found device 0 with properties: \n",
      "pciBusID: 0000:65:00.0 name: TITAN RTX computeCapability: 7.5\n",
      "coreClock: 1.77GHz coreCount: 72 deviceMemorySize: 23.65GiB deviceMemoryBandwidth: 625.94GiB/s\n",
      "2020-11-27 14:15:20.076042: I tensorflow/core/common_runtime/gpu/gpu_device.cc:1716] Found device 1 with properties: \n",
      "pciBusID: 0000:b3:00.0 name: TITAN RTX computeCapability: 7.5\n",
      "coreClock: 1.77GHz coreCount: 72 deviceMemorySize: 23.65GiB deviceMemoryBandwidth: 625.94GiB/s\n",
      "2020-11-27 14:15:20.076116: I tensorflow/stream_executor/platform/default/dso_loader.cc:48] Successfully opened dynamic library libcudart.so.10.1\n",
      "2020-11-27 14:15:20.078452: I tensorflow/stream_executor/platform/default/dso_loader.cc:48] Successfully opened dynamic library libcublas.so.10\n",
      "2020-11-27 14:15:20.080434: I tensorflow/stream_executor/platform/default/dso_loader.cc:48] Successfully opened dynamic library libcufft.so.10\n",
      "2020-11-27 14:15:20.080837: I tensorflow/stream_executor/platform/default/dso_loader.cc:48] Successfully opened dynamic library libcurand.so.10\n",
      "2020-11-27 14:15:20.083249: I tensorflow/stream_executor/platform/default/dso_loader.cc:48] Successfully opened dynamic library libcusolver.so.10\n",
      "2020-11-27 14:15:20.084509: I tensorflow/stream_executor/platform/default/dso_loader.cc:48] Successfully opened dynamic library libcusparse.so.10\n",
      "2020-11-27 14:15:20.089535: I tensorflow/stream_executor/platform/default/dso_loader.cc:48] Successfully opened dynamic library libcudnn.so.7\n",
      "2020-11-27 14:15:20.097419: I tensorflow/core/common_runtime/gpu/gpu_device.cc:1858] Adding visible gpu devices: 0, 1\n",
      "2020-11-27 14:15:20.097832: I tensorflow/core/platform/cpu_feature_guard.cc:142] This TensorFlow binary is optimized with oneAPI Deep Neural Network Library (oneDNN)to use the following CPU instructions in performance-critical operations:  AVX2 AVX512F FMA\n",
      "To enable them in other operations, rebuild TensorFlow with the appropriate compiler flags.\n",
      "2020-11-27 14:15:20.123590: I tensorflow/core/platform/profile_utils/cpu_utils.cc:104] CPU Frequency: 3499910000 Hz\n",
      "2020-11-27 14:15:20.124433: I tensorflow/compiler/xla/service/service.cc:168] XLA service 0x7777dc0 initialized for platform Host (this does not guarantee that XLA will be used). Devices:\n",
      "2020-11-27 14:15:20.124471: I tensorflow/compiler/xla/service/service.cc:176]   StreamExecutor device (0): Host, Default Version\n",
      "2020-11-27 14:15:20.532266: I tensorflow/compiler/xla/service/service.cc:168] XLA service 0x77e3910 initialized for platform CUDA (this does not guarantee that XLA will be used). Devices:\n",
      "2020-11-27 14:15:20.532309: I tensorflow/compiler/xla/service/service.cc:176]   StreamExecutor device (0): TITAN RTX, Compute Capability 7.5\n",
      "2020-11-27 14:15:20.532319: I tensorflow/compiler/xla/service/service.cc:176]   StreamExecutor device (1): TITAN RTX, Compute Capability 7.5\n",
      "2020-11-27 14:15:20.533526: I tensorflow/core/common_runtime/gpu/gpu_device.cc:1716] Found device 0 with properties: \n",
      "pciBusID: 0000:65:00.0 name: TITAN RTX computeCapability: 7.5\n",
      "coreClock: 1.77GHz coreCount: 72 deviceMemorySize: 23.65GiB deviceMemoryBandwidth: 625.94GiB/s\n",
      "2020-11-27 14:15:20.534585: I tensorflow/core/common_runtime/gpu/gpu_device.cc:1716] Found device 1 with properties: \n",
      "pciBusID: 0000:b3:00.0 name: TITAN RTX computeCapability: 7.5\n",
      "coreClock: 1.77GHz coreCount: 72 deviceMemorySize: 23.65GiB deviceMemoryBandwidth: 625.94GiB/s\n",
      "2020-11-27 14:15:20.534663: I tensorflow/stream_executor/platform/default/dso_loader.cc:48] Successfully opened dynamic library libcudart.so.10.1\n",
      "2020-11-27 14:15:20.534695: I tensorflow/stream_executor/platform/default/dso_loader.cc:48] Successfully opened dynamic library libcublas.so.10\n",
      "2020-11-27 14:15:20.534713: I tensorflow/stream_executor/platform/default/dso_loader.cc:48] Successfully opened dynamic library libcufft.so.10\n",
      "2020-11-27 14:15:20.534729: I tensorflow/stream_executor/platform/default/dso_loader.cc:48] Successfully opened dynamic library libcurand.so.10\n",
      "2020-11-27 14:15:20.534745: I tensorflow/stream_executor/platform/default/dso_loader.cc:48] Successfully opened dynamic library libcusolver.so.10\n",
      "2020-11-27 14:15:20.534761: I tensorflow/stream_executor/platform/default/dso_loader.cc:48] Successfully opened dynamic library libcusparse.so.10\n",
      "2020-11-27 14:15:20.534778: I tensorflow/stream_executor/platform/default/dso_loader.cc:48] Successfully opened dynamic library libcudnn.so.7\n",
      "2020-11-27 14:15:20.538478: I tensorflow/core/common_runtime/gpu/gpu_device.cc:1858] Adding visible gpu devices: 0, 1\n",
      "2020-11-27 14:15:20.538557: I tensorflow/stream_executor/platform/default/dso_loader.cc:48] Successfully opened dynamic library libcudart.so.10.1\n",
      "2020-11-27 14:15:22.217680: I tensorflow/core/common_runtime/gpu/gpu_device.cc:1257] Device interconnect StreamExecutor with strength 1 edge matrix:\n",
      "2020-11-27 14:15:22.217742: I tensorflow/core/common_runtime/gpu/gpu_device.cc:1263]      0 1 \n",
      "2020-11-27 14:15:22.217767: I tensorflow/core/common_runtime/gpu/gpu_device.cc:1276] 0:   N Y \n",
      "2020-11-27 14:15:22.217775: I tensorflow/core/common_runtime/gpu/gpu_device.cc:1276] 1:   Y N \n",
      "2020-11-27 14:15:22.221131: I tensorflow/core/common_runtime/gpu/gpu_device.cc:1402] Created TensorFlow device (/job:localhost/replica:0/task:0/device:GPU:0 with 19208 MB memory) -> physical GPU (device: 0, name: TITAN RTX, pci bus id: 0000:65:00.0, compute capability: 7.5)\n",
      "2020-11-27 14:15:22.222691: I tensorflow/core/common_runtime/gpu/gpu_device.cc:1402] Created TensorFlow device (/job:localhost/replica:0/task:0/device:GPU:1 with 22466 MB memory) -> physical GPU (device: 1, name: TITAN RTX, pci bus id: 0000:b3:00.0, compute capability: 7.5)\n",
      "using cached model\n",
      "using cached model\n",
      "using cached model\n",
      "251\n",
      "to_tokens: ['▁', '▁', '▁']\n",
      "휴식 처럼\n",
      "251\n",
      "to_tokens: ['▁', '▁', '▁']\n",
      "휴식 처럼\n",
      "251\n",
      "to_tokens: ['▁', '▁', '▁']\n",
      "휴식처럼\n",
      "\n",
      "\n",
      "251\n",
      "to_tokens: ['▁', '▁', '▁']\n",
      "휴식 처럼\n",
      "251\n",
      "to_tokens: ['▁', '▁', '▁']\n",
      "휴식처럼\n",
      "\n",
      "\n",
      "good\n"
     ]
    }
   ],
   "source": [
    "!python3 generator.py --load_path='./checkpoint/1990-2000_댄스120000.tar' --tmp_sent='휴식' --loops=5"
   ]
  },
  {
   "cell_type": "code",
   "execution_count": null,
   "metadata": {},
   "outputs": [],
   "source": []
  }
 ],
 "metadata": {
  "kernelspec": {
   "display_name": "Python 3",
   "language": "python",
   "name": "python3"
  },
  "language_info": {
   "codemirror_mode": {
    "name": "ipython",
    "version": 3
   },
   "file_extension": ".py",
   "mimetype": "text/x-python",
   "name": "python",
   "nbconvert_exporter": "python",
   "pygments_lexer": "ipython3",
   "version": "3.7.6"
  }
 },
 "nbformat": 4,
 "nbformat_minor": 2
}
