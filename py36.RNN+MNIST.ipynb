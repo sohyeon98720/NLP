{
 "cells": [
  {
   "cell_type": "markdown",
   "metadata": {},
   "source": [
    "### 01 라이브러리 임포트"
   ]
  },
  {
   "cell_type": "code",
   "execution_count": 1,
   "metadata": {},
   "outputs": [],
   "source": [
    "import torch\n",
    "import torch.nn as nn\n",
    "import torchvision.datasets as dset\n",
    "import torchvision.transforms as transforms\n",
    "import matplotlib.pyplot as plt\n",
    "from torch.autograd import Variable"
   ]
  },
  {
   "cell_type": "markdown",
   "metadata": {},
   "source": [
    "### 02 하이퍼파라미터 셋팅"
   ]
  },
  {
   "cell_type": "code",
   "execution_count": 2,
   "metadata": {},
   "outputs": [],
   "source": [
    "# hyper-parameters\n",
    "sequence_length=28\n",
    "input_size=28\n",
    "hidden_size=128\n",
    "num_layers=2\n",
    "\n",
    "num_classes=10\n",
    "batch_size=100\n",
    "num_epochs=2\n",
    "learning_rate=0.01"
   ]
  },
  {
   "cell_type": "code",
   "execution_count": 3,
   "metadata": {},
   "outputs": [],
   "source": [
    "# Device configuration\n",
    "device=torch.device('cuda' if torch.cuda.is_available() else 'cpu')"
   ]
  },
  {
   "cell_type": "markdown",
   "metadata": {},
   "source": [
    "### 03 MNIST train, test dataset 가져오기"
   ]
  },
  {
   "cell_type": "code",
   "execution_count": 4,
   "metadata": {},
   "outputs": [
    {
     "name": "stdout",
     "output_type": "stream",
     "text": [
      "Downloading http://yann.lecun.com/exdb/mnist/train-images-idx3-ubyte.gz to MNIST/raw/train-images-idx3-ubyte.gz\n"
     ]
    },
    {
     "data": {
      "application/vnd.jupyter.widget-view+json": {
       "model_id": "e5cc7fe965e5416bbcf17a8f8d519cbf",
       "version_major": 2,
       "version_minor": 0
      },
      "text/plain": [
       "HBox(children=(FloatProgress(value=1.0, bar_style='info', max=1.0), HTML(value='')))"
      ]
     },
     "metadata": {},
     "output_type": "display_data"
    },
    {
     "name": "stdout",
     "output_type": "stream",
     "text": [
      "Extracting MNIST/raw/train-images-idx3-ubyte.gz to MNIST/raw\n",
      "Downloading http://yann.lecun.com/exdb/mnist/train-labels-idx1-ubyte.gz to MNIST/raw/train-labels-idx1-ubyte.gz\n"
     ]
    },
    {
     "data": {
      "application/vnd.jupyter.widget-view+json": {
       "model_id": "6853a2b8e80142eeb69d59fd41d0f9e6",
       "version_major": 2,
       "version_minor": 0
      },
      "text/plain": [
       "HBox(children=(FloatProgress(value=1.0, bar_style='info', max=1.0), HTML(value='')))"
      ]
     },
     "metadata": {},
     "output_type": "display_data"
    },
    {
     "name": "stdout",
     "output_type": "stream",
     "text": [
      "Extracting MNIST/raw/train-labels-idx1-ubyte.gz to MNIST/raw\n",
      "Downloading http://yann.lecun.com/exdb/mnist/t10k-images-idx3-ubyte.gz to MNIST/raw/t10k-images-idx3-ubyte.gz\n",
      "\n"
     ]
    },
    {
     "data": {
      "application/vnd.jupyter.widget-view+json": {
       "model_id": "202cb305b6e740118de8a18fd383f49b",
       "version_major": 2,
       "version_minor": 0
      },
      "text/plain": [
       "HBox(children=(FloatProgress(value=1.0, bar_style='info', max=1.0), HTML(value='')))"
      ]
     },
     "metadata": {},
     "output_type": "display_data"
    },
    {
     "name": "stdout",
     "output_type": "stream",
     "text": [
      "Extracting MNIST/raw/t10k-images-idx3-ubyte.gz to MNIST/raw\n",
      "Downloading http://yann.lecun.com/exdb/mnist/t10k-labels-idx1-ubyte.gz to MNIST/raw/t10k-labels-idx1-ubyte.gz\n"
     ]
    },
    {
     "data": {
      "application/vnd.jupyter.widget-view+json": {
       "model_id": "f35c5dafb3f34580a46143cdc9d57ca8",
       "version_major": 2,
       "version_minor": 0
      },
      "text/plain": [
       "HBox(children=(FloatProgress(value=1.0, bar_style='info', max=1.0), HTML(value='')))"
      ]
     },
     "metadata": {},
     "output_type": "display_data"
    },
    {
     "name": "stdout",
     "output_type": "stream",
     "text": [
      "Extracting MNIST/raw/t10k-labels-idx1-ubyte.gz to MNIST/raw\n",
      "Processing...\n",
      "Done!\n"
     ]
    }
   ],
   "source": [
    "# mnist dataset\n",
    "mnist_train=dset.MNIST(\"\",train=True, transform=transforms.ToTensor(),\n",
    "                      target_transform=None, download=True)\n",
    "mnist_test=dset.MNIST(\"\",train=False, transform=transforms.ToTensor(),\n",
    "                      target_transform=None, download=True)"
   ]
  },
  {
   "cell_type": "markdown",
   "metadata": {},
   "source": [
    "### 04 데이터 확인"
   ]
  },
  {
   "cell_type": "code",
   "execution_count": 5,
   "metadata": {},
   "outputs": [
    {
     "name": "stdout",
     "output_type": "stream",
     "text": [
      "mnist_train 길이:  60000\n",
      "mnist_test 길이:  10000\n"
     ]
    }
   ],
   "source": [
    "print(\"mnist_train 길이: \", len(mnist_train))\n",
    "print(\"mnist_test 길이: \", len(mnist_test))"
   ]
  },
  {
   "cell_type": "code",
   "execution_count": 6,
   "metadata": {},
   "outputs": [
    {
     "name": "stdout",
     "output_type": "stream",
     "text": [
      "image data 형태:  torch.Size([1, 28, 28])\n",
      "label:  5\n"
     ]
    }
   ],
   "source": [
    "image,label=mnist_train.__getitem__(0) # 0번째 데이터 형태 확인하기\n",
    "print(\"image data 형태: \", image.size())\n",
    "print(\"label: \", label)"
   ]
  },
  {
   "cell_type": "code",
   "execution_count": 8,
   "metadata": {},
   "outputs": [
    {
     "data": {
      "image/png": "[encoded data removed]",
      "text/plain": [
       "<Figure size 432x288 with 1 Axes>"
      ]
     },
     "metadata": {
      "needs_background": "light"
     },
     "output_type": "display_data"
    }
   ],
   "source": [
    "img=image.numpy()\n",
    "plt.title(\"label: %d\" %label)\n",
    "plt.imshow(img[0],cmap='gray')\n",
    "plt.show()"
   ]
  },
  {
   "cell_type": "markdown",
   "metadata": {},
   "source": [
    "### 05 데이터 로드함수\n",
    "학습시킬 때 batch_size 단위로 끊어서 로드하기 위함"
   ]
  },
  {
   "cell_type": "code",
   "execution_count": 9,
   "metadata": {},
   "outputs": [],
   "source": [
    "train_loader=torch.utils.data.DataLoader(dataset=mnist_train,\n",
    "                                        batch_size=batch_size,\n",
    "                                        shuffle=True,\n",
    "                                        drop_last=True) # batch_size만큼 나눌 때 나머지는 버려라\n",
    "\n",
    "test_loader=torch.utils.data.DataLoader(dataset=mnist_test,\n",
    "                                        batch_size=batch_size,\n",
    "                                        shuffle=False, # test에선 shuffle하지 않음\n",
    "                                        drop_last=True)"
   ]
  },
  {
   "cell_type": "markdown",
   "metadata": {},
   "source": [
    "### 05-1 데이터 로드함수 이해하기"
   ]
  },
  {
   "cell_type": "code",
   "execution_count": 11,
   "metadata": {
    "scrolled": true
   },
   "outputs": [
    {
     "name": "stdout",
     "output_type": "stream",
     "text": [
      "[0]\n",
      " 한 번에 로드되는 데이터 크기 100\n"
     ]
    },
    {
     "data": {
      "image/png": "[encoded data removed]",
      "text/plain": [
       "<Figure size 432x288 with 3 Axes>"
      ]
     },
     "metadata": {
      "needs_background": "light"
     },
     "output_type": "display_data"
    },
    {
     "name": "stdout",
     "output_type": "stream",
     "text": [
      "[1]\n",
      " 한 번에 로드되는 데이터 크기 100\n"
     ]
    },
    {
     "data": {
      "image/png": "[encoded data removed]",
      "text/plain": [
       "<Figure size 432x288 with 3 Axes>"
      ]
     },
     "metadata": {
      "needs_background": "light"
     },
     "output_type": "display_data"
    },
    {
     "name": "stdout",
     "output_type": "stream",
     "text": [
      "[2]\n",
      " 한 번에 로드되는 데이터 크기 100\n"
     ]
    },
    {
     "data": {
      "image/png": "[encoded data removed]",
      "text/plain": [
       "<Figure size 432x288 with 3 Axes>"
      ]
     },
     "metadata": {
      "needs_background": "light"
     },
     "output_type": "display_data"
    },
    {
     "name": "stdout",
     "output_type": "stream",
     "text": [
      "[3]\n",
      " 한 번에 로드되는 데이터 크기 100\n"
     ]
    },
    {
     "data": {
      "image/png": "[encoded data removed]",
      "text/plain": [
       "<Figure size 432x288 with 3 Axes>"
      ]
     },
     "metadata": {
      "needs_background": "light"
     },
     "output_type": "display_data"
    },
    {
     "name": "stdout",
     "output_type": "stream",
     "text": [
      "[4]\n",
      " 한 번에 로드되는 데이터 크기 100\n"
     ]
    },
    {
     "data": {
      "image/png": "[encoded data removed]",
      "text/plain": [
       "<Figure size 432x288 with 3 Axes>"
      ]
     },
     "metadata": {
      "needs_background": "light"
     },
     "output_type": "display_data"
    },
    {
     "name": "stdout",
     "output_type": "stream",
     "text": [
      "[5]\n",
      " 한 번에 로드되는 데이터 크기 100\n"
     ]
    },
    {
     "data": {
      "image/png": "[encoded data removed]",
      "text/plain": [
       "<Figure size 432x288 with 3 Axes>"
      ]
     },
     "metadata": {
      "needs_background": "light"
     },
     "output_type": "display_data"
    }
   ],
   "source": [
    "n=3 # 샘플로 그려볼 데이터 개수\n",
    "\n",
    "for i, [imgs,labels] in enumerate(test_loader):\n",
    "    if i>5:\n",
    "        break\n",
    "    print(\"[%d]\" %i)\n",
    "    print(\" 한 번에 로드되는 데이터 크기\", len(imgs))\n",
    "    \n",
    "    # 그리기\n",
    "    for j in range(n):\n",
    "        img=imgs[j].numpy()\n",
    "        img=img.reshape((img.shape[1],img.shape[2])) # (1,28,28) -> (28,28)으로 color차원 없앰\n",
    "        \n",
    "        plt.subplot(1,n,j+1) # (1,3)형태 plot의 j번째 자리에 그린다\n",
    "        plt.imshow(img,cmap='gray')\n",
    "        plt.title(\"label: %d\" %labels[j])\n",
    "    plt.show()"
   ]
  },
  {
   "cell_type": "markdown",
   "metadata": {},
   "source": [
    "### 06 모델 선언"
   ]
  },
  {
   "cell_type": "code",
   "execution_count": 12,
   "metadata": {},
   "outputs": [],
   "source": [
    "# RNN(many-to-one)\n",
    "class RNN(nn.Module):\n",
    "    def __init__(self,input_sie,hidden_size,num_layers,num_classes):\n",
    "        super(RNN,self).__init__()\n",
    "        self.hidden_size=hidden_size\n",
    "        self.num_layers=num_layers\n",
    "        self.lstm=nn.LSTM(input_size,hidden_size,num_layers,batch_first=True)\n",
    "        self.fc=nn.Linear(hidden_size,num_classes) # fully-connected\n",
    "        \n",
    "    def forward(self,x):\n",
    "        # input tensor: (batch_size, seq_length, input_size)\n",
    "        # x: (100,28,28)\n",
    "        \n",
    "        # hidden state tensor: (# of layers, batch_size, hidden_size)\n",
    "        # h: (2,100,128)\n",
    "        h0=torch.zeros(self.num_layers,x.size(0), self.hidden_size).to(device)\n",
    "        c0=torch.zeros(self.num_layers,x.size(0), self.hidden_size).to(device)\n",
    "        \n",
    "        # 순전파 LSTM\n",
    "        # output tensor: (batch_size, seq_length, hidden_size)\n",
    "        # out: (100,28,128)\n",
    "        \n",
    "        out, _ = self.lstm(x,(h0,c0))\n",
    "        \n",
    "        # 28번째 output layer: (bs, hidden_size)\n",
    "        # out[:, -1, :]: (100,128)\n",
    "        \n",
    "        out=self.fc(out[:, -1, :])\n",
    "        \n",
    "        # y^: (batch_size, num_classes)\n",
    "        # y_pred: (100,100)\n",
    "        \n",
    "        return out"
   ]
  },
  {
   "cell_type": "code",
   "execution_count": 13,
   "metadata": {},
   "outputs": [],
   "source": [
    "model=RNN(input_size, hidden_size, num_layers, num_classes).to(device)"
   ]
  },
  {
   "cell_type": "code",
   "execution_count": 14,
   "metadata": {},
   "outputs": [],
   "source": [
    "def ComputeAccr(dloader, imodel):\n",
    "    correct=0\n",
    "    total=0\n",
    "    \n",
    "    for j, [imgs, labels] in enumerate(dloader): # batch_size만큼\n",
    "        # x: (batch_size, 1, seq_length, input_size) -> (batch_size, seq_length, input_size)\n",
    "        img=imgs\n",
    "        img=img.reshape(-1,sequence_length, input_size).to(device)\n",
    "        \n",
    "        # y: (batch_size, num_classes)\n",
    "        label=labels.to(device)\n",
    "        # label= Variable(labels).cuda()\n",
    "        #.cuda(): GPU에 로드되기 위함. 만양 CPU로 설정되어있다면 에러남\n",
    "        \n",
    "        # Forward prop.\n",
    "        output=imodel(img) # (batch_size, num_classes)\n",
    "        _, output_index=torch.max(output,1) # (batch_size, 1)\n",
    "        \n",
    "        total += label.size(0)\n",
    "        correct += (output_index == label).sum().float()\n",
    "    return (100*correct/total).numpy()"
   ]
  },
  {
   "cell_type": "code",
   "execution_count": 16,
   "metadata": {},
   "outputs": [
    {
     "name": "stdout",
     "output_type": "stream",
     "text": [
      "Accuracy of test data: 8.92\n"
     ]
    }
   ],
   "source": [
    "print(\"Accuracy of test data: %.2f\" %ComputeAccr(test_loader, model))"
   ]
  },
  {
   "cell_type": "markdown",
   "metadata": {},
   "source": [
    "### 06 loss, optimizer"
   ]
  },
  {
   "cell_type": "code",
   "execution_count": 17,
   "metadata": {},
   "outputs": [],
   "source": [
    "loss_func=nn.CrossEntropyLoss()\n",
    "optimizer=torch.optim.Adam(model.parameters(), lr=learning_rate)"
   ]
  },
  {
   "cell_type": "code",
   "execution_count": 20,
   "metadata": {},
   "outputs": [
    {
     "name": "stdout",
     "output_type": "stream",
     "text": [
      "Epoch  [1/2], Step [100,600], Loss: 0.1564, Accr: 94.62\n",
      "Epoch  [1/2], Step [200,600], Loss: 0.0673, Accr: 95.93\n",
      "Epoch  [1/2], Step [300,600], Loss: 0.1126, Accr: 95.08\n",
      "Epoch  [1/2], Step [400,600], Loss: 0.2748, Accr: 96.06\n",
      "Epoch  [1/2], Step [500,600], Loss: 0.1496, Accr: 96.44\n",
      "Epoch  [1/2], Step [600,600], Loss: 0.0766, Accr: 96.79\n",
      "Epoch  [2/2], Step [100,600], Loss: 0.1881, Accr: 95.23\n",
      "Epoch  [2/2], Step [200,600], Loss: 0.0338, Accr: 97.01\n",
      "Epoch  [2/2], Step [300,600], Loss: 0.0534, Accr: 97.82\n",
      "Epoch  [2/2], Step [400,600], Loss: 0.1256, Accr: 97.49\n",
      "Epoch  [2/2], Step [500,600], Loss: 0.1461, Accr: 97.66\n",
      "Epoch  [2/2], Step [600,600], Loss: 0.0727, Accr: 97.83\n"
     ]
    }
   ],
   "source": [
    "### 07 학습\n",
    "total_step = len(train_loader)\n",
    "for epoch in range(num_epochs):\n",
    "    for i, [imgs,labels] in enumerate(train_loader):\n",
    "        # x: (batch_size, 1, seq_length, input_size) -> (batch_size, seq_length, input_size)\n",
    "        img=imgs\n",
    "        img=img.reshape(-1, sequence_length, input_size).to(device)\n",
    "        \n",
    "        # y: (batch_size, num_classes)\n",
    "        label=labels.to(device)\n",
    "        \n",
    "        # forward prop\n",
    "        outputs=model(img)\n",
    "        loss=loss_func(outputs,label)\n",
    "        \n",
    "        # back prop & optimize\n",
    "        optimizer.zero_grad()\n",
    "        loss.backward()\n",
    "        optimizer.step()\n",
    "        \n",
    "        if (i+1) % 100 ==0:\n",
    "            print(\"Epoch  [{}/{}], Step [{},{}], Loss: {:.4f}, Accr: {:.2f}\"\n",
    "                 .format(epoch+1, num_epochs, i+1, total_step,\n",
    "                 loss.item(), ComputeAccr(test_loader, model)))"
   ]
  },
  {
   "cell_type": "markdown",
   "metadata": {},
   "source": [
    "# ↑왜 train의 정확도를 측정하지않는가?\n",
    "`ComputeAccr(test_loader, model)` -> `ComputeAccr(train_loader, model)`\n",
    "아닐까\n"
   ]
  },
  {
   "cell_type": "markdown",
   "metadata": {},
   "source": [
    "### 07 테스트"
   ]
  },
  {
   "cell_type": "code",
   "execution_count": 21,
   "metadata": {},
   "outputs": [
    {
     "name": "stdout",
     "output_type": "stream",
     "text": [
      "Accuracy of Test Data: 97.83\n"
     ]
    }
   ],
   "source": [
    "print(\"Accuracy of Test Data: %.2f\" %ComputeAccr(test_loader, model))"
   ]
  },
  {
   "cell_type": "markdown",
   "metadata": {},
   "source": [
    "### 08 학습된 파라미터 저장"
   ]
  },
  {
   "cell_type": "code",
   "execution_count": 22,
   "metadata": {},
   "outputs": [
    {
     "name": "stderr",
     "output_type": "stream",
     "text": [
      "/home/ec2-user/anaconda3/envs/pytorch_p36/lib/python3.6/site-packages/torch/serialization.py:360: UserWarning: Couldn't retrieve source code for container of type RNN. It won't be checked for correctness upon loading.\n",
      "  \"type \" + obj.__name__ + \". It won't be checked \"\n"
     ]
    }
   ],
   "source": [
    "netname='./nets/rnn_weight.pkl'\n",
    "torch.save(model, netname, )"
   ]
  },
  {
   "cell_type": "markdown",
   "metadata": {},
   "source": [
    "### 09 학습된 파라미터 로드"
   ]
  },
  {
   "cell_type": "code",
   "execution_count": 23,
   "metadata": {},
   "outputs": [],
   "source": [
    "netname='./nets/rnn_weight.pkl'\n",
    "model=torch.load(netname)"
   ]
  },
  {
   "cell_type": "code",
   "execution_count": 24,
   "metadata": {},
   "outputs": [
    {
     "name": "stdout",
     "output_type": "stream",
     "text": [
      "Accuracy of Test Data: 97.83\n"
     ]
    }
   ],
   "source": [
    "print(\"Accuracy of Test Data: %.2f\" %ComputeAccr(test_loader, model))"
   ]
  },
  {
   "cell_type": "code",
   "execution_count": null,
   "metadata": {},
   "outputs": [],
   "source": []
  }
 ],
 "metadata": {
  "kernelspec": {
   "display_name": "conda_pytorch_p36",
   "language": "python",
   "name": "conda_pytorch_p36"
  },
  "language_info": {
   "codemirror_mode": {
    "name": "ipython",
    "version": 3
   },
   "file_extension": ".py",
   "mimetype": "text/x-python",
   "name": "python",
   "nbconvert_exporter": "python",
   "pygments_lexer": "ipython3",
   "version": "3.6.10"
  }
 },
 "nbformat": 4,
 "nbformat_minor": 4
}
